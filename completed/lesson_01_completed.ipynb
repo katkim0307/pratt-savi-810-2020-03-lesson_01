{
 "cells": [
  {
   "cell_type": "markdown",
   "metadata": {},
   "source": [
    "# Lesson 01\n",
    "# Introduction to the Course, Course Tools, Python Setup, Jupyter Notebook, Data Types, Functions\n",
    "\n",
    "![http://www.pratt.edu/tiny_mce/plugins/imagemanager/files/Light_brown_blue22.jpg](http://www.pratt.edu/tiny_mce/plugins/imagemanager/files/Light_brown_blue22.jpg)"
   ]
  },
  {
   "cell_type": "markdown",
   "metadata": {
    "toc": true
   },
   "source": [
    "<h1>Table of Contents<span class=\"tocSkip\"></span></h1>\n",
    "<div class=\"toc\"><ul class=\"toc-item\"><li><span><a href=\"#Lesson-01\" data-toc-modified-id=\"Lesson-01-1\">Lesson 01</a></span></li><li><span><a href=\"#Introduction-to-the-Course,-Course-Tools,-Python-Setup,-Jupyter-Notebook,-Data-Types,-Functions\" data-toc-modified-id=\"Introduction-to-the-Course,-Course-Tools,-Python-Setup,-Jupyter-Notebook,-Data-Types,-Functions-2\">Introduction to the Course, Course Tools, Python Setup, Jupyter Notebook, Data Types, Functions</a></span><ul class=\"toc-item\"><li><span><a href=\"#Recommended-Resources\" data-toc-modified-id=\"Recommended-Resources-2.1\">Recommended Resources</a></span></li><li><span><a href=\"#Learning-Objectives\" data-toc-modified-id=\"Learning-Objectives-2.2\">Learning Objectives</a></span></li><li><span><a href=\"#Introduction-to-the-Course\" data-toc-modified-id=\"Introduction-to-the-Course-2.3\">Introduction to the Course</a></span></li><li><span><a href=\"#Course-Tools\" data-toc-modified-id=\"Course-Tools-2.4\">Course Tools</a></span><ul class=\"toc-item\"><li><span><a href=\"#Slack\" data-toc-modified-id=\"Slack-2.4.1\">Slack</a></span></li><li><span><a href=\"#GitHub\" data-toc-modified-id=\"GitHub-2.4.2\">GitHub</a></span></li><li><span><a href=\"#Anaconda\" data-toc-modified-id=\"Anaconda-2.4.3\">Anaconda</a></span></li><li><span><a href=\"#Jupyter-Notebook\" data-toc-modified-id=\"Jupyter-Notebook-2.4.4\">Jupyter Notebook</a></span></li><li><span><a href=\"#Google-Colab-Notebooks\" data-toc-modified-id=\"Google-Colab-Notebooks-2.4.5\">Google Colab Notebooks</a></span></li></ul></li><li><span><a href=\"#GitHub\" data-toc-modified-id=\"GitHub-2.5\">GitHub</a></span><ul class=\"toc-item\"><li><span><a href=\"#Fork-this-Lesson-Repo\" data-toc-modified-id=\"Fork-this-Lesson-Repo-2.5.1\">Fork this Lesson Repo</a></span><ul class=\"toc-item\"><li><span><a href=\"#Fork\" data-toc-modified-id=\"Fork-2.5.1.1\">Fork</a></span></li><li><span><a href=\"#Clone\" data-toc-modified-id=\"Clone-2.5.1.2\">Clone</a></span></li></ul></li></ul></li><li><span><a href=\"#Google-Colab-Notebooks---Let's-Make-a-Quick-Map-with-Python\" data-toc-modified-id=\"Google-Colab-Notebooks---Let's-Make-a-Quick-Map-with-Python-2.6\">Google Colab Notebooks - Let's Make a Quick Map with Python</a></span><ul class=\"toc-item\"><li><ul class=\"toc-item\"><li><span><a href=\"#In-the-first-cell-add:\" data-toc-modified-id=\"In-the-first-cell-add:-2.6.0.1\">In the first cell add:</a></span></li><li><span><a href=\"#Then,-we-import-the-following-libraries\" data-toc-modified-id=\"Then,-we-import-the-following-libraries-2.6.0.2\">Then, we import the following libraries</a></span></li><li><span><a href=\"#Next,-we'll-load-in-Natural-Earth-World-Countries-Features\" data-toc-modified-id=\"Next,-we'll-load-in-Natural-Earth-World-Countries-Features-2.6.0.3\">Next, we'll load in Natural Earth World Countries Features</a></span></li><li><span><a href=\"#Now-let's-take-a-look-at-the-Countries-Feature-Layer-dataframe\" data-toc-modified-id=\"Now-let's-take-a-look-at-the-Countries-Feature-Layer-dataframe-2.6.0.4\">Now let's take a look at the Countries Feature Layer dataframe</a></span></li><li><span><a href=\"#Now-let's-Make-a-Map!\" data-toc-modified-id=\"Now-let's-Make-a-Map!-2.6.0.5\">Now let's Make a Map!</a></span></li></ul></li></ul></li><li><span><a href=\"#Python-Setup\" data-toc-modified-id=\"Python-Setup-2.7\">Python Setup</a></span><ul class=\"toc-item\"><li><span><a href=\"#Anaconda---Python-3.7\" data-toc-modified-id=\"Anaconda---Python-3.7-2.7.1\">Anaconda - Python 3.7</a></span></li></ul></li><li><span><a href=\"#Python-Data-Types\" data-toc-modified-id=\"Python-Data-Types-2.8\">Python Data Types</a></span><ul class=\"toc-item\"><li><span><a href=\"#Integers\" data-toc-modified-id=\"Integers-2.8.1\">Integers</a></span></li><li><span><a href=\"#Float\" data-toc-modified-id=\"Float-2.8.2\">Float</a></span></li><li><span><a href=\"#Boolean\" data-toc-modified-id=\"Boolean-2.8.3\">Boolean</a></span></li><li><span><a href=\"#Strings\" data-toc-modified-id=\"Strings-2.8.4\">Strings</a></span></li><li><span><a href=\"#Properties-of-Strings\" data-toc-modified-id=\"Properties-of-Strings-2.8.5\">Properties of Strings</a></span><ul class=\"toc-item\"><li><span><a href=\"#Slice\" data-toc-modified-id=\"Slice-2.8.5.1\">Slice</a></span></li></ul></li><li><span><a href=\"#Variables-can-be-placed-into-text-via-f-Strings\" data-toc-modified-id=\"Variables-can-be-placed-into-text-via-f-Strings-2.8.6\">Variables can be placed into text via f-Strings</a></span></li><li><span><a href=\"#Python-Operators-(+,-=,--,-*)\" data-toc-modified-id=\"Python-Operators-(+,-=,--,-*)-2.8.7\">Python Operators (+, =, -, *)</a></span><ul class=\"toc-item\"><li><span><a href=\"#Addition\" data-toc-modified-id=\"Addition-2.8.7.1\">Addition</a></span></li><li><span><a href=\"#Subtraction\" data-toc-modified-id=\"Subtraction-2.8.7.2\">Subtraction</a></span></li><li><span><a href=\"#Multiplication\" data-toc-modified-id=\"Multiplication-2.8.7.3\">Multiplication</a></span></li><li><span><a href=\"#Division\" data-toc-modified-id=\"Division-2.8.7.4\">Division</a></span></li><li><span><a href=\"#Floor-Operator\" data-toc-modified-id=\"Floor-Operator-2.8.7.5\">Floor Operator</a></span></li><li><span><a href=\"#Modulo-Operator\" data-toc-modified-id=\"Modulo-Operator-2.8.7.6\">Modulo Operator</a></span></li><li><span><a href=\"#Exponentiate\" data-toc-modified-id=\"Exponentiate-2.8.7.7\">Exponentiate</a></span></li></ul></li></ul></li><li><span><a href=\"#Variables\" data-toc-modified-id=\"Variables-2.9\">Variables</a></span><ul class=\"toc-item\"><li><span><a href=\"#Variable-Naming-Rules\" data-toc-modified-id=\"Variable-Naming-Rules-2.9.1\">Variable Naming Rules</a></span></li></ul></li><li><span><a href=\"#Collections-Data-Types\" data-toc-modified-id=\"Collections-Data-Types-2.10\">Collections Data Types</a></span><ul class=\"toc-item\"><li><span><a href=\"#List\" data-toc-modified-id=\"List-2.10.1\">List</a></span></li><li><span><a href=\"#Dictionaries\" data-toc-modified-id=\"Dictionaries-2.10.2\">Dictionaries</a></span><ul class=\"toc-item\"><li><span><a href=\"#Dictionaries-can-be-nested\" data-toc-modified-id=\"Dictionaries-can-be-nested-2.10.2.1\">Dictionaries can be nested</a></span></li></ul></li><li><span><a href=\"#Other-Collection-Types\" data-toc-modified-id=\"Other-Collection-Types-2.10.3\">Other Collection Types</a></span></li></ul></li><li><span><a href=\"#Built-in-Python-Functions\" data-toc-modified-id=\"Built-in-Python-Functions-2.11\">Built-in Python Functions</a></span></li><li><span><a href=\"#Python-Libraries\" data-toc-modified-id=\"Python-Libraries-2.12\">Python Libraries</a></span><ul class=\"toc-item\"><li><ul class=\"toc-item\"><li><span><a href=\"#You-can-import-a-library-for-handling-Dates-&amp;-Time-called-datetime\" data-toc-modified-id=\"You-can-import-a-library-for-handling-Dates-&amp;-Time-called-datetime-2.12.0.1\">You can import a library for handling Dates &amp; Time called datetime</a></span></li><li><span><a href=\"#You-can-import-plotting-libraries-like-matplotlib-for-data-visuualization\" data-toc-modified-id=\"You-can-import-plotting-libraries-like-matplotlib-for-data-visuualization-2.12.0.2\">You can import plotting libraries like <code>matplotlib</code> for data visuualization</a></span></li></ul></li></ul></li></ul></li></ul></div>"
   ]
  },
  {
   "cell_type": "markdown",
   "metadata": {},
   "source": [
    "## Recommended Resources\n",
    "\n"
   ]
  },
  {
   "cell_type": "markdown",
   "metadata": {},
   "source": [
    "## Learning Objectives\n",
    "\n",
    "* To familiarize students with the course format\n",
    "* Introduce the Course Tools\n",
    "* Introduce Students to our Python Setup\n",
    "* Introduction to Python Data Types\n",
    "* Introduction to Python Loops and Iterating "
   ]
  },
  {
   "cell_type": "markdown",
   "metadata": {},
   "source": [
    "## Introduction to the Course\n",
    "\n",
    "**[Syllabus](https://docs.google.com/document/d/1KHxT-NkaoXXdSNkK8JlzL2FFgmNoxPQ25fwgtXPnbrY)**\n",
    "\n",
    "**Class Format**:\n",
    "* 3 hour Classes\n",
    "  * 50 minutes of Lesson\n",
    "  * 5-10 minute Break\n",
    "  * 50 minutes of Lesson\n",
    "  * 5-10 minute Break\n",
    "  * ~45 minutes of Lesson\n",
    "  * 10-15 minutes Homework Introduction, etc. \n",
    "  * (this is subject to change)"
   ]
  },
  {
   "cell_type": "markdown",
   "metadata": {},
   "source": [
    "## Course Tools \n",
    "\n",
    "### Slack \n",
    "* [Join the Slack Group](https://join.slack.com/t/pratt-savi/shared_invite/zt-cywzjb3p-4Q_JaZNuenRGgf28tyMbRw)\n",
    "\n",
    "### GitHub\n",
    "\n",
    "* [Download GitHub Desktop](https://desktop.github.com/)\n",
    "* [Create a GitHub Account](https://github.com/)\n",
    "\n",
    "### Anaconda\n",
    "\n",
    "* [Download and Install Anaconda for Python 3.7](https://www.anaconda.com/distribution/#download-section)\n",
    "* [Installation Instructions](https://docs.anaconda.com/anaconda/install/)\n",
    "* [Download Anaconda Cheatsheet](https://docs.conda.io/projects/conda/en/4.6.0/_downloads/52a95608c49671267e40c689e0bc00ca/conda-cheatsheet.pdf)\n",
    "* ``conda create --name savi``\n",
    "\n",
    "\n",
    "### Jupyter Notebook\n",
    "> The Jupyter Notebook is an open-source web application that allows you to create and share documents that contain live code, equations, visualizations and narrative text. Uses include: data cleaning and transformation, numerical simulation, statistical modeling, data visualization, machine learning, and much more. - Source: [https://jupyter.org/](https://jupyter.org/)\n",
    "\n",
    "### Google Colab Notebooks\n",
    "\n",
    "* [Create a new Notebook](https://colab.research.google.com/notebook#create=true)\n",
    "\n",
    "\n",
    "\n",
    "\n",
    "\n",
    "\n"
   ]
  },
  {
   "cell_type": "markdown",
   "metadata": {},
   "source": [
    "## GitHub\n",
    "\n",
    "### Fork this Lesson Repo\n",
    "\n",
    "https://github.com/pratt-savi-810/pratt-savi-810-2020-03-lesson_01\n",
    "\n",
    "#### Fork\n",
    "\n",
    "![fork](https://raw.githubusercontent.com/pratt-savi-810/images/master/fork.png)\n",
    "\n",
    "---\n",
    "\n",
    "#### Clone \n",
    "\n",
    "![clone](https://raw.githubusercontent.com/pratt-savi-810/images/master/clone.png)\n"
   ]
  },
  {
   "cell_type": "markdown",
   "metadata": {},
   "source": [
    "## Google Colab Notebooks - Let's Make a Quick Map with Python\n",
    "\n",
    "![colab](https://raw.githubusercontent.com/pratt-savi-810/images/master/colab_map.png)\n",
    "\n",
    "* [Create a new Notebook](https://colab.research.google.com/notebook#create=true)\n",
    "\n",
    "#### In the first cell add:\n",
    "\n",
    "```python\n",
    "%%time \n",
    "!apt update\n",
    "!apt upgrade\n",
    "!apt install gdal-bin python-gdal python3-gdal \n",
    "# Install rtree - Geopandas requirment\n",
    "!apt install python3-rtree \n",
    "# Install Geopandas\n",
    "!pip install git+git://github.com/geopandas/geopandas.git\n",
    "# Install descartes - Geopandas requirment\n",
    "!pip install descartes \n",
    "```\n",
    "\n",
    "#### Then, we import the following libraries\n",
    "We'll discuss Libraries later on. "
   ]
  },
  {
   "cell_type": "code",
   "execution_count": 2,
   "metadata": {},
   "outputs": [],
   "source": [
    "import os\n",
    "import geopandas as gpd"
   ]
  },
  {
   "cell_type": "markdown",
   "metadata": {},
   "source": [
    "#### Next, we'll load in Natural Earth World Countries Features \n",
    "These features are natively installed with GeoPandas. We'll talk about GeoPandas later on as well."
   ]
  },
  {
   "cell_type": "code",
   "execution_count": 3,
   "metadata": {},
   "outputs": [],
   "source": [
    "countries = gpd.read_file(gpd.datasets.get_path('naturalearth_lowres'))"
   ]
  },
  {
   "cell_type": "markdown",
   "metadata": {},
   "source": [
    "#### Now let's take a look at the Countries Feature Layer dataframe \n",
    "We'll talk about DataFrames later on. "
   ]
  },
  {
   "cell_type": "code",
   "execution_count": 75,
   "metadata": {},
   "outputs": [
    {
     "data": {
      "text/html": [
       "<div>\n",
       "<style scoped>\n",
       "    .dataframe tbody tr th:only-of-type {\n",
       "        vertical-align: middle;\n",
       "    }\n",
       "\n",
       "    .dataframe tbody tr th {\n",
       "        vertical-align: top;\n",
       "    }\n",
       "\n",
       "    .dataframe thead th {\n",
       "        text-align: right;\n",
       "    }\n",
       "</style>\n",
       "<table border=\"1\" class=\"dataframe\">\n",
       "  <thead>\n",
       "    <tr style=\"text-align: right;\">\n",
       "      <th></th>\n",
       "      <th>pop_est</th>\n",
       "      <th>continent</th>\n",
       "      <th>name</th>\n",
       "      <th>iso_a3</th>\n",
       "      <th>gdp_md_est</th>\n",
       "      <th>geometry</th>\n",
       "    </tr>\n",
       "  </thead>\n",
       "  <tbody>\n",
       "    <tr>\n",
       "      <td>0</td>\n",
       "      <td>920938</td>\n",
       "      <td>Oceania</td>\n",
       "      <td>Fiji</td>\n",
       "      <td>FJI</td>\n",
       "      <td>8374.0</td>\n",
       "      <td>MULTIPOLYGON (((180.00000 -16.06713, 180.00000...</td>\n",
       "    </tr>\n",
       "    <tr>\n",
       "      <td>1</td>\n",
       "      <td>53950935</td>\n",
       "      <td>Africa</td>\n",
       "      <td>Tanzania</td>\n",
       "      <td>TZA</td>\n",
       "      <td>150600.0</td>\n",
       "      <td>POLYGON ((33.90371 -0.95000, 34.07262 -1.05982...</td>\n",
       "    </tr>\n",
       "    <tr>\n",
       "      <td>2</td>\n",
       "      <td>603253</td>\n",
       "      <td>Africa</td>\n",
       "      <td>W. Sahara</td>\n",
       "      <td>ESH</td>\n",
       "      <td>906.5</td>\n",
       "      <td>POLYGON ((-8.66559 27.65643, -8.66512 27.58948...</td>\n",
       "    </tr>\n",
       "    <tr>\n",
       "      <td>3</td>\n",
       "      <td>35623680</td>\n",
       "      <td>North America</td>\n",
       "      <td>Canada</td>\n",
       "      <td>CAN</td>\n",
       "      <td>1674000.0</td>\n",
       "      <td>MULTIPOLYGON (((-122.84000 49.00000, -122.9742...</td>\n",
       "    </tr>\n",
       "    <tr>\n",
       "      <td>4</td>\n",
       "      <td>326625791</td>\n",
       "      <td>North America</td>\n",
       "      <td>United States of America</td>\n",
       "      <td>USA</td>\n",
       "      <td>18560000.0</td>\n",
       "      <td>MULTIPOLYGON (((-122.84000 49.00000, -120.0000...</td>\n",
       "    </tr>\n",
       "  </tbody>\n",
       "</table>\n",
       "</div>"
      ],
      "text/plain": [
       "     pop_est      continent                      name iso_a3  gdp_md_est  \\\n",
       "0     920938        Oceania                      Fiji    FJI      8374.0   \n",
       "1   53950935         Africa                  Tanzania    TZA    150600.0   \n",
       "2     603253         Africa                 W. Sahara    ESH       906.5   \n",
       "3   35623680  North America                    Canada    CAN   1674000.0   \n",
       "4  326625791  North America  United States of America    USA  18560000.0   \n",
       "\n",
       "                                            geometry  \n",
       "0  MULTIPOLYGON (((180.00000 -16.06713, 180.00000...  \n",
       "1  POLYGON ((33.90371 -0.95000, 34.07262 -1.05982...  \n",
       "2  POLYGON ((-8.66559 27.65643, -8.66512 27.58948...  \n",
       "3  MULTIPOLYGON (((-122.84000 49.00000, -122.9742...  \n",
       "4  MULTIPOLYGON (((-122.84000 49.00000, -120.0000...  "
      ]
     },
     "execution_count": 75,
     "metadata": {},
     "output_type": "execute_result"
    }
   ],
   "source": [
    "countries.head()"
   ]
  },
  {
   "cell_type": "markdown",
   "metadata": {},
   "source": [
    "#### Now let's Make a Map!\n",
    "This is very easy with GeoPandas. Making maps later on will be more complicated. "
   ]
  },
  {
   "cell_type": "code",
   "execution_count": 74,
   "metadata": {},
   "outputs": [
    {
     "data": {
      "image/png": "[encoded data removed]",
      "text/plain": [
       "<Figure size 1152x1152 with 1 Axes>"
      ]
     },
     "metadata": {
      "needs_background": "light"
     },
     "output_type": "display_data"
    }
   ],
   "source": [
    "countries.plot(figsize=(16, 16));"
   ]
  },
  {
   "cell_type": "markdown",
   "metadata": {},
   "source": [
    "## Python Setup\n"
   ]
  },
  {
   "cell_type": "markdown",
   "metadata": {},
   "source": [
    "For this class we will use Anaconda Python.\n",
    "\n",
    "### Anaconda - Python 3.7\n",
    "\n",
    "* [Download and Install Anaconda for Python 3.7](https://www.anaconda.com/distribution/#download-section)\n",
    "* [Installation Instructions](https://docs.anaconda.com/anaconda/install/)\n",
    "* [Download Anaconda Cheatsheet](https://docs.conda.io/projects/conda/en/4.6.0/_downloads/52a95608c49671267e40c689e0bc00ca/conda-cheatsheet.pdf)\n",
    "* ``conda create --name savi``"
   ]
  },
  {
   "cell_type": "markdown",
   "metadata": {},
   "source": [
    "## Python Data Types\n",
    "Learn more about [Python Data Types from Python.org](https://docs.python.org/3.7/library/datatypes.html).\n",
    "\n",
    "You can check any Python object's type with the `type()` function. \n",
    "\n",
    "### Integers "
   ]
  },
  {
   "cell_type": "code",
   "execution_count": 6,
   "metadata": {},
   "outputs": [
    {
     "data": {
      "text/plain": [
       "5"
      ]
     },
     "execution_count": 6,
     "metadata": {},
     "output_type": "execute_result"
    }
   ],
   "source": [
    "5"
   ]
  },
  {
   "cell_type": "code",
   "execution_count": 7,
   "metadata": {},
   "outputs": [
    {
     "data": {
      "text/plain": [
       "int"
      ]
     },
     "execution_count": 7,
     "metadata": {},
     "output_type": "execute_result"
    }
   ],
   "source": [
    "type(5)"
   ]
  },
  {
   "cell_type": "markdown",
   "metadata": {},
   "source": [
    "### Float \n",
    "Floats are decimal numeric types"
   ]
  },
  {
   "cell_type": "code",
   "execution_count": 8,
   "metadata": {},
   "outputs": [
    {
     "data": {
      "text/plain": [
       "1.7"
      ]
     },
     "execution_count": 8,
     "metadata": {},
     "output_type": "execute_result"
    }
   ],
   "source": [
    "1.7"
   ]
  },
  {
   "cell_type": "code",
   "execution_count": 9,
   "metadata": {},
   "outputs": [
    {
     "data": {
      "text/plain": [
       "2.0000009"
      ]
     },
     "execution_count": 9,
     "metadata": {},
     "output_type": "execute_result"
    }
   ],
   "source": [
    "2.0000009"
   ]
  },
  {
   "cell_type": "code",
   "execution_count": 10,
   "metadata": {},
   "outputs": [
    {
     "data": {
      "text/plain": [
       "float"
      ]
     },
     "execution_count": 10,
     "metadata": {},
     "output_type": "execute_result"
    }
   ],
   "source": [
    "type(1.7)"
   ]
  },
  {
   "cell_type": "markdown",
   "metadata": {},
   "source": [
    "### Boolean \n",
    "\n",
    "`True` or `False` data type"
   ]
  },
  {
   "cell_type": "code",
   "execution_count": 11,
   "metadata": {},
   "outputs": [
    {
     "data": {
      "text/plain": [
       "bool"
      ]
     },
     "execution_count": 11,
     "metadata": {},
     "output_type": "execute_result"
    }
   ],
   "source": [
    "type(True)"
   ]
  },
  {
   "cell_type": "code",
   "execution_count": 12,
   "metadata": {},
   "outputs": [
    {
     "data": {
      "text/plain": [
       "bool"
      ]
     },
     "execution_count": 12,
     "metadata": {},
     "output_type": "execute_result"
    }
   ],
   "source": [
    "type(False)"
   ]
  },
  {
   "cell_type": "code",
   "execution_count": 13,
   "metadata": {},
   "outputs": [
    {
     "data": {
      "text/plain": [
       "False"
      ]
     },
     "execution_count": 13,
     "metadata": {},
     "output_type": "execute_result"
    }
   ],
   "source": [
    "not True"
   ]
  },
  {
   "cell_type": "code",
   "execution_count": 14,
   "metadata": {},
   "outputs": [
    {
     "data": {
      "text/plain": [
       "True"
      ]
     },
     "execution_count": 14,
     "metadata": {},
     "output_type": "execute_result"
    }
   ],
   "source": [
    "not False"
   ]
  },
  {
   "cell_type": "code",
   "execution_count": 15,
   "metadata": {},
   "outputs": [
    {
     "data": {
      "text/plain": [
       "True"
      ]
     },
     "execution_count": 15,
     "metadata": {},
     "output_type": "execute_result"
    }
   ],
   "source": [
    "1 == True  \n",
    "# True is 1  == is the Equality Operator "
   ]
  },
  {
   "cell_type": "code",
   "execution_count": 16,
   "metadata": {},
   "outputs": [
    {
     "data": {
      "text/plain": [
       "True"
      ]
     },
     "execution_count": 16,
     "metadata": {},
     "output_type": "execute_result"
    }
   ],
   "source": [
    "0 == False  \n",
    "# False is 0  == is the Equality Operator "
   ]
  },
  {
   "cell_type": "code",
   "execution_count": 17,
   "metadata": {},
   "outputs": [
    {
     "data": {
      "text/plain": [
       "False"
      ]
     },
     "execution_count": 17,
     "metadata": {},
     "output_type": "execute_result"
    }
   ],
   "source": [
    "False == 1"
   ]
  },
  {
   "cell_type": "code",
   "execution_count": 18,
   "metadata": {},
   "outputs": [
    {
     "data": {
      "text/plain": [
       "False"
      ]
     },
     "execution_count": 18,
     "metadata": {},
     "output_type": "execute_result"
    }
   ],
   "source": [
    "True == 0"
   ]
  },
  {
   "cell_type": "code",
   "execution_count": 19,
   "metadata": {},
   "outputs": [
    {
     "data": {
      "text/plain": [
       "True"
      ]
     },
     "execution_count": 19,
     "metadata": {},
     "output_type": "execute_result"
    }
   ],
   "source": [
    "1 > False  \n",
    "# False is 0"
   ]
  },
  {
   "cell_type": "markdown",
   "metadata": {},
   "source": [
    "### Strings\n",
    "Strings are a data type that stores text as data. \n",
    "\n",
    "**You can add comments to lines of codes with the hash symbol** `# comment`"
   ]
  },
  {
   "cell_type": "code",
   "execution_count": 20,
   "metadata": {},
   "outputs": [
    {
     "data": {
      "text/plain": [
       "'Geospatial is fun!'"
      ]
     },
     "execution_count": 20,
     "metadata": {},
     "output_type": "execute_result"
    }
   ],
   "source": [
    "\"Geospatial is fun!\"  # strings can be stored inside double-quotes"
   ]
  },
  {
   "cell_type": "code",
   "execution_count": 21,
   "metadata": {},
   "outputs": [
    {
     "data": {
      "text/plain": [
       "'Python is fun!'"
      ]
     },
     "execution_count": 21,
     "metadata": {},
     "output_type": "execute_result"
    }
   ],
   "source": [
    "'Python is fun!'  # strings can be stored in single-quotes"
   ]
  },
  {
   "cell_type": "code",
   "execution_count": 22,
   "metadata": {},
   "outputs": [],
   "source": [
    "# you can set a \"variable\" to equal the string to store for later...\n",
    "multiline_string = \"\"\" \n",
    "I can write multi-line comments. \n",
    "\n",
    "A Poem. \n",
    "\n",
    "GIS is awesome! And so is Python!\n",
    "\n",
    "Fin.\n",
    "\"\"\""
   ]
  },
  {
   "cell_type": "code",
   "execution_count": 23,
   "metadata": {},
   "outputs": [
    {
     "name": "stdout",
     "output_type": "stream",
     "text": [
      " \n",
      "I can write multi-line comments. \n",
      "\n",
      "A Poem. \n",
      "\n",
      "GIS is awesome! And so is Python!\n",
      "\n",
      "Fin.\n",
      "\n"
     ]
    }
   ],
   "source": [
    "print(multiline_string)"
   ]
  },
  {
   "cell_type": "code",
   "execution_count": 24,
   "metadata": {},
   "outputs": [
    {
     "name": "stdout",
     "output_type": "stream",
     "text": [
      "John Doe\n"
     ]
    }
   ],
   "source": [
    "first_name = 'John'\n",
    "last_name = 'Doe'\n",
    "\n",
    "print(first_name, last_name)"
   ]
  },
  {
   "cell_type": "markdown",
   "metadata": {},
   "source": [
    "### Properties of Strings\n",
    "You can "
   ]
  },
  {
   "cell_type": "code",
   "execution_count": 25,
   "metadata": {},
   "outputs": [
    {
     "data": {
      "text/plain": [
       "3"
      ]
     },
     "execution_count": 25,
     "metadata": {},
     "output_type": "execute_result"
    }
   ],
   "source": [
    "len(last_name)"
   ]
  },
  {
   "cell_type": "code",
   "execution_count": 26,
   "metadata": {},
   "outputs": [
    {
     "data": {
      "text/plain": [
       "'DOE'"
      ]
     },
     "execution_count": 26,
     "metadata": {},
     "output_type": "execute_result"
    }
   ],
   "source": [
    "last_name.upper()"
   ]
  },
  {
   "cell_type": "code",
   "execution_count": 27,
   "metadata": {},
   "outputs": [
    {
     "data": {
      "text/plain": [
       "'doe'"
      ]
     },
     "execution_count": 27,
     "metadata": {},
     "output_type": "execute_result"
    }
   ],
   "source": [
    "last_name.lower()"
   ]
  },
  {
   "cell_type": "code",
   "execution_count": 28,
   "metadata": {},
   "outputs": [
    {
     "data": {
      "text/plain": [
       "['D', 'e']"
      ]
     },
     "execution_count": 28,
     "metadata": {},
     "output_type": "execute_result"
    }
   ],
   "source": [
    "last_name.split('o')"
   ]
  },
  {
   "cell_type": "markdown",
   "metadata": {},
   "source": [
    "#### Slice"
   ]
  },
  {
   "cell_type": "code",
   "execution_count": 29,
   "metadata": {},
   "outputs": [
    {
     "data": {
      "text/plain": [
       "'J'"
      ]
     },
     "execution_count": 29,
     "metadata": {},
     "output_type": "execute_result"
    }
   ],
   "source": [
    "first_name[0]"
   ]
  },
  {
   "cell_type": "code",
   "execution_count": 30,
   "metadata": {},
   "outputs": [
    {
     "data": {
      "text/plain": [
       "'n'"
      ]
     },
     "execution_count": 30,
     "metadata": {},
     "output_type": "execute_result"
    }
   ],
   "source": [
    "first_name[-1]"
   ]
  },
  {
   "cell_type": "code",
   "execution_count": 31,
   "metadata": {},
   "outputs": [
    {
     "data": {
      "text/plain": [
       "'oh'"
      ]
     },
     "execution_count": 31,
     "metadata": {},
     "output_type": "execute_result"
    }
   ],
   "source": [
    "first_name[1:3]  # gets middle "
   ]
  },
  {
   "cell_type": "code",
   "execution_count": 32,
   "metadata": {},
   "outputs": [
    {
     "data": {
      "text/plain": [
       "'Joh'"
      ]
     },
     "execution_count": 32,
     "metadata": {},
     "output_type": "execute_result"
    }
   ],
   "source": [
    "first_name[0:3]  # gets first three"
   ]
  },
  {
   "cell_type": "code",
   "execution_count": 33,
   "metadata": {},
   "outputs": [
    {
     "data": {
      "text/plain": [
       "'Joh'"
      ]
     },
     "execution_count": 33,
     "metadata": {},
     "output_type": "execute_result"
    }
   ],
   "source": [
    "first_name[:3]  # Also gets first three"
   ]
  },
  {
   "cell_type": "code",
   "execution_count": 34,
   "metadata": {},
   "outputs": [
    {
     "data": {
      "text/plain": [
       "'ohn'"
      ]
     },
     "execution_count": 34,
     "metadata": {},
     "output_type": "execute_result"
    }
   ],
   "source": [
    "first_name[1:]  # Gets all but first 1"
   ]
  },
  {
   "cell_type": "code",
   "execution_count": 97,
   "metadata": {},
   "outputs": [
    {
     "data": {
      "text/plain": [
       "'nhoJ'"
      ]
     },
     "execution_count": 97,
     "metadata": {},
     "output_type": "execute_result"
    }
   ],
   "source": [
    "first_name[::-1]  # reversed"
   ]
  },
  {
   "cell_type": "markdown",
   "metadata": {},
   "source": [
    "### Variables can be placed into text via f-Strings\n",
    "\n",
    "More on [f-strings](https://www.python.org/dev/peps/pep-0498/). \n"
   ]
  },
  {
   "cell_type": "code",
   "execution_count": 101,
   "metadata": {},
   "outputs": [
    {
     "data": {
      "text/plain": [
       "'The employee with the last name of Doe has a first name of John'"
      ]
     },
     "execution_count": 101,
     "metadata": {},
     "output_type": "execute_result"
    }
   ],
   "source": [
    "statement = f\"The employee with the last name of {last_name} has a first name of {first_name}\"\n",
    "\n",
    "statement"
   ]
  },
  {
   "cell_type": "code",
   "execution_count": 104,
   "metadata": {},
   "outputs": [
    {
     "data": {
      "text/plain": [
       "'The employee with the last name of Smithfield has a first name of Jane'"
      ]
     },
     "execution_count": 104,
     "metadata": {},
     "output_type": "execute_result"
    }
   ],
   "source": [
    "first_name = 'Jane'\n",
    "last_name = 'Smithfield'\n",
    "\n",
    "statement = f\"The employee with the last name of {last_name} has a first name of {first_name}\"\n",
    "statement"
   ]
  },
  {
   "cell_type": "markdown",
   "metadata": {},
   "source": [
    "### Python Operators (+, =, -, *)\n",
    "\n",
    "#### Addition"
   ]
  },
  {
   "cell_type": "code",
   "execution_count": 36,
   "metadata": {},
   "outputs": [
    {
     "data": {
      "text/plain": [
       "5"
      ]
     },
     "execution_count": 36,
     "metadata": {},
     "output_type": "execute_result"
    }
   ],
   "source": [
    "3 + 2"
   ]
  },
  {
   "cell_type": "code",
   "execution_count": 37,
   "metadata": {},
   "outputs": [
    {
     "data": {
      "text/plain": [
       "5.5"
      ]
     },
     "execution_count": 37,
     "metadata": {},
     "output_type": "execute_result"
    }
   ],
   "source": [
    "3 + 2.5"
   ]
  },
  {
   "cell_type": "code",
   "execution_count": 38,
   "metadata": {},
   "outputs": [
    {
     "name": "stdout",
     "output_type": "stream",
     "text": [
      "Doe, John loves Geospatial Technology!\n"
     ]
    }
   ],
   "source": [
    "full_name = last_name + ', ' + first_name + ' loves Geospatial Technology!'\n",
    "# you can add strings together with + \n",
    "\n",
    "print(full_name) "
   ]
  },
  {
   "cell_type": "markdown",
   "metadata": {},
   "source": [
    "#### Subtraction"
   ]
  },
  {
   "cell_type": "code",
   "execution_count": 39,
   "metadata": {},
   "outputs": [
    {
     "data": {
      "text/plain": [
       "-123214435"
      ]
     },
     "execution_count": 39,
     "metadata": {},
     "output_type": "execute_result"
    }
   ],
   "source": [
    "1000 - 123215435"
   ]
  },
  {
   "cell_type": "markdown",
   "metadata": {},
   "source": [
    "#### Multiplication\n"
   ]
  },
  {
   "cell_type": "code",
   "execution_count": 40,
   "metadata": {},
   "outputs": [
    {
     "data": {
      "text/plain": [
       "5.5"
      ]
     },
     "execution_count": 40,
     "metadata": {},
     "output_type": "execute_result"
    }
   ],
   "source": [
    "5 * 1.1"
   ]
  },
  {
   "cell_type": "code",
   "execution_count": 41,
   "metadata": {},
   "outputs": [
    {
     "data": {
      "text/plain": [
       "'JohnJohnJohn'"
      ]
     },
     "execution_count": 41,
     "metadata": {},
     "output_type": "execute_result"
    }
   ],
   "source": [
    "first_name * 3  # you can multiply strings!"
   ]
  },
  {
   "cell_type": "markdown",
   "metadata": {},
   "source": [
    "#### Division"
   ]
  },
  {
   "cell_type": "code",
   "execution_count": 42,
   "metadata": {},
   "outputs": [
    {
     "data": {
      "text/plain": [
       "3.3333333333333335"
      ]
     },
     "execution_count": 42,
     "metadata": {},
     "output_type": "execute_result"
    }
   ],
   "source": [
    "10 / 3\n",
    "# Note this operates slightly differently for integers in Python 2.x"
   ]
  },
  {
   "cell_type": "markdown",
   "metadata": {},
   "source": [
    "#### Floor Operator \n",
    "\n",
    "> The / (division) and // (floor division) operators yield the quotient of their arguments. The numeric arguments are first converted to a common type. Division of integers yields a float, while floor division of integers results in an integer; the result is that of mathematical division with the ‘floor’ function applied to the result. Division by zero raises the ZeroDivisionError exception. - Source: [https://docs.python.org/3.3/reference/expressions.html#binary-arithmetic-operations](https://docs.python.org/3.3/reference/expressions.html#binary-arithmetic-operations)"
   ]
  },
  {
   "cell_type": "code",
   "execution_count": 43,
   "metadata": {},
   "outputs": [
    {
     "data": {
      "text/plain": [
       "3"
      ]
     },
     "execution_count": 43,
     "metadata": {},
     "output_type": "execute_result"
    }
   ],
   "source": [
    "10 // 3"
   ]
  },
  {
   "cell_type": "markdown",
   "metadata": {},
   "source": [
    "#### Modulo Operator\n",
    "\n",
    "> The % (modulo) operator yields the remainder from the division of the first argument by the second. The numeric arguments are first converted to a common type. A zero right argument raises the ZeroDivisionError exception. The arguments may be floating point numbers, e.g., 3.14%0.7 equals 0.34 (since 3.14 equals 4*0.7 + 0.34.) The modulo operator always yields a result with the same sign as its second operand (or zero); the absolute value of the result is strictly smaller than the absolute value of the second operand [1]. - Source: [https://docs.python.org/3.3/reference/expressions.html#binary-arithmetic-operations](https://docs.python.org/3.3/reference/expressions.html#binary-arithmetic-operations)"
   ]
  },
  {
   "cell_type": "code",
   "execution_count": 44,
   "metadata": {},
   "outputs": [
    {
     "data": {
      "text/plain": [
       "1"
      ]
     },
     "execution_count": 44,
     "metadata": {},
     "output_type": "execute_result"
    }
   ],
   "source": [
    "10 % 3  # the remainder from the division of the first argument by the second"
   ]
  },
  {
   "cell_type": "markdown",
   "metadata": {},
   "source": [
    "#### Exponentiate"
   ]
  },
  {
   "cell_type": "code",
   "execution_count": 45,
   "metadata": {},
   "outputs": [
    {
     "data": {
      "text/plain": [
       "4"
      ]
     },
     "execution_count": 45,
     "metadata": {},
     "output_type": "execute_result"
    }
   ],
   "source": [
    "2 ** 2"
   ]
  },
  {
   "cell_type": "markdown",
   "metadata": {},
   "source": [
    "## Variables\n",
    "\n",
    "Often in Python, you want to reuse some value, you can do this easily using a **Variable**. I can overwrite some defined Variables if the datatype is **Mutable**. "
   ]
  },
  {
   "cell_type": "markdown",
   "metadata": {},
   "source": [
    "### Variable Naming Rules\n",
    "\n",
    "* Use lowercase without spaces.\n",
    "* Use underscores in place of spaces.\n",
    "* Name variables descriptively. \n",
    "* Do not start variable name with a number. \n",
    "* Avoid existing function and built-in names. "
   ]
  },
  {
   "cell_type": "code",
   "execution_count": 46,
   "metadata": {},
   "outputs": [],
   "source": [
    "x = 5"
   ]
  },
  {
   "cell_type": "code",
   "execution_count": 47,
   "metadata": {},
   "outputs": [
    {
     "data": {
      "text/plain": [
       "3125"
      ]
     },
     "execution_count": 47,
     "metadata": {},
     "output_type": "execute_result"
    }
   ],
   "source": [
    "x ** x"
   ]
  },
  {
   "cell_type": "code",
   "execution_count": 48,
   "metadata": {},
   "outputs": [],
   "source": [
    "x = 2  # this overwrites the initial x, this type of object, is Mutable."
   ]
  },
  {
   "cell_type": "code",
   "execution_count": 49,
   "metadata": {},
   "outputs": [
    {
     "data": {
      "text/plain": [
       "4"
      ]
     },
     "execution_count": 49,
     "metadata": {},
     "output_type": "execute_result"
    }
   ],
   "source": [
    "x ** x"
   ]
  },
  {
   "cell_type": "markdown",
   "metadata": {},
   "source": [
    "## Collections Data Types\n",
    "\n",
    "### List\n",
    "A list is a simple collection type, it is **Mutable**, you can add and/or remove items to it. Lists are **ordered**."
   ]
  },
  {
   "cell_type": "code",
   "execution_count": 50,
   "metadata": {},
   "outputs": [],
   "source": [
    "students = ['John', 'Sally', 'Steve', 'Mary', 'Mr. Potatohead', 'Ashley']"
   ]
  },
  {
   "cell_type": "code",
   "execution_count": 51,
   "metadata": {},
   "outputs": [
    {
     "data": {
      "text/plain": [
       "list"
      ]
     },
     "execution_count": 51,
     "metadata": {},
     "output_type": "execute_result"
    }
   ],
   "source": [
    "type(students)"
   ]
  },
  {
   "cell_type": "code",
   "execution_count": 52,
   "metadata": {},
   "outputs": [
    {
     "data": {
      "text/plain": [
       "6"
      ]
     },
     "execution_count": 52,
     "metadata": {},
     "output_type": "execute_result"
    }
   ],
   "source": [
    "len(students)"
   ]
  },
  {
   "cell_type": "code",
   "execution_count": 53,
   "metadata": {},
   "outputs": [
    {
     "data": {
      "text/plain": [
       "'John'"
      ]
     },
     "execution_count": 53,
     "metadata": {},
     "output_type": "execute_result"
    }
   ],
   "source": [
    "students[0]"
   ]
  },
  {
   "cell_type": "code",
   "execution_count": 54,
   "metadata": {},
   "outputs": [
    {
     "data": {
      "text/plain": [
       "'Steve'"
      ]
     },
     "execution_count": 54,
     "metadata": {},
     "output_type": "execute_result"
    }
   ],
   "source": [
    "students[2]"
   ]
  },
  {
   "cell_type": "code",
   "execution_count": 55,
   "metadata": {},
   "outputs": [
    {
     "data": {
      "text/plain": [
       "['Steve', 'Mr. Potatohead']"
      ]
     },
     "execution_count": 55,
     "metadata": {},
     "output_type": "execute_result"
    }
   ],
   "source": [
    "students[2::2]"
   ]
  },
  {
   "cell_type": "code",
   "execution_count": 56,
   "metadata": {},
   "outputs": [
    {
     "data": {
      "text/plain": [
       "['Ashley', 'Mr. Potatohead', 'Mary', 'Steve', 'Sally', 'John']"
      ]
     },
     "execution_count": 56,
     "metadata": {},
     "output_type": "execute_result"
    }
   ],
   "source": [
    "students[::-1]"
   ]
  },
  {
   "cell_type": "code",
   "execution_count": 57,
   "metadata": {},
   "outputs": [
    {
     "data": {
      "text/plain": [
       "['Ashley', 'John', 'Mary', 'Mr. Potatohead', 'Sally', 'Steve']"
      ]
     },
     "execution_count": 57,
     "metadata": {},
     "output_type": "execute_result"
    }
   ],
   "source": [
    "students.sort()  # We've now changed the state of this list to be sorted\n",
    "students"
   ]
  },
  {
   "cell_type": "code",
   "execution_count": 58,
   "metadata": {},
   "outputs": [],
   "source": [
    "# add more items to the list\n",
    "students.append('Danny')"
   ]
  },
  {
   "cell_type": "code",
   "execution_count": 59,
   "metadata": {},
   "outputs": [
    {
     "data": {
      "text/plain": [
       "['Ashley', 'John', 'Mary', 'Mr. Potatohead', 'Sally', 'Steve', 'Danny']"
      ]
     },
     "execution_count": 59,
     "metadata": {},
     "output_type": "execute_result"
    }
   ],
   "source": [
    "students"
   ]
  },
  {
   "cell_type": "code",
   "execution_count": 60,
   "metadata": {},
   "outputs": [
    {
     "data": {
      "text/plain": [
       "['Ashley', 'John', 'Mary', 'Sally', 'Steve', 'Danny']"
      ]
     },
     "execution_count": 60,
     "metadata": {},
     "output_type": "execute_result"
    }
   ],
   "source": [
    "# remove an item from the list\n",
    "students.remove('Mr. Potatohead')\n",
    "students"
   ]
  },
  {
   "cell_type": "code",
   "execution_count": 61,
   "metadata": {},
   "outputs": [
    {
     "data": {
      "text/plain": [
       "'Ashley - John - Mary - Sally - Steve - Danny'"
      ]
     },
     "execution_count": 61,
     "metadata": {},
     "output_type": "execute_result"
    }
   ],
   "source": [
    "' - '.join(students)"
   ]
  },
  {
   "cell_type": "markdown",
   "metadata": {},
   "source": [
    "### Dictionaries\n",
    "\n",
    "Dictionaries are unordered data that has a **key** and a **value**. "
   ]
  },
  {
   "cell_type": "code",
   "execution_count": 62,
   "metadata": {},
   "outputs": [],
   "source": [
    "d = {'first_name': 'John', 'last_name': 'Doe', 'age': 32}"
   ]
  },
  {
   "cell_type": "code",
   "execution_count": 63,
   "metadata": {},
   "outputs": [
    {
     "data": {
      "text/plain": [
       "'John'"
      ]
     },
     "execution_count": 63,
     "metadata": {},
     "output_type": "execute_result"
    }
   ],
   "source": [
    "d['first_name']"
   ]
  },
  {
   "cell_type": "code",
   "execution_count": 64,
   "metadata": {},
   "outputs": [
    {
     "data": {
      "text/plain": [
       "'Doe'"
      ]
     },
     "execution_count": 64,
     "metadata": {},
     "output_type": "execute_result"
    }
   ],
   "source": [
    "d['last_name']"
   ]
  },
  {
   "cell_type": "code",
   "execution_count": 65,
   "metadata": {},
   "outputs": [
    {
     "data": {
      "text/plain": [
       "32"
      ]
     },
     "execution_count": 65,
     "metadata": {},
     "output_type": "execute_result"
    }
   ],
   "source": [
    "d['age']"
   ]
  },
  {
   "cell_type": "markdown",
   "metadata": {},
   "source": [
    "#### Dictionaries can be nested"
   ]
  },
  {
   "cell_type": "code",
   "execution_count": 66,
   "metadata": {},
   "outputs": [],
   "source": [
    "states = {\n",
    "    \"NY\": {\n",
    "        \"fullname\": \"New York State\",\n",
    "        \"motto\": \"GIS fo' eva!\"\n",
    "    },\n",
    "    \"NJ\": {\n",
    "        \"fullname\": \"New Jersey\",\n",
    "        \"motto\": \"Python in da houssssseee!\",\n",
    "        \"founded\": 1787,\n",
    "        \"industries\": ['textile', 'silk', 'railroad locomotive']\n",
    "    }\n",
    "}"
   ]
  },
  {
   "cell_type": "code",
   "execution_count": 67,
   "metadata": {},
   "outputs": [
    {
     "data": {
      "text/plain": [
       "{'NY': {'fullname': 'New York State', 'motto': \"GIS fo' eva!\"},\n",
       " 'NJ': {'fullname': 'New Jersey',\n",
       "  'motto': 'Python in da houssssseee!',\n",
       "  'founded': 1787,\n",
       "  'industries': ['textile', 'silk', 'railroad locomotive']}}"
      ]
     },
     "execution_count": 67,
     "metadata": {},
     "output_type": "execute_result"
    }
   ],
   "source": [
    "states"
   ]
  },
  {
   "cell_type": "code",
   "execution_count": 68,
   "metadata": {},
   "outputs": [
    {
     "data": {
      "text/plain": [
       "['textile', 'silk', 'railroad locomotive']"
      ]
     },
     "execution_count": 68,
     "metadata": {},
     "output_type": "execute_result"
    }
   ],
   "source": [
    "states['NJ']['industries']"
   ]
  },
  {
   "cell_type": "code",
   "execution_count": 69,
   "metadata": {},
   "outputs": [
    {
     "data": {
      "text/plain": [
       "{'NY': {'fullname': 'New York State', 'motto': \"GIS fo' eva!\"},\n",
       " 'NJ': 123456789}"
      ]
     },
     "execution_count": 69,
     "metadata": {},
     "output_type": "execute_result"
    }
   ],
   "source": [
    "# We can overwrite values, what is this called? \n",
    "states['NJ'] = 123456789\n",
    "states"
   ]
  },
  {
   "cell_type": "markdown",
   "metadata": {},
   "source": [
    "### Other Collection Types \n",
    "* [Tuples](https://docs.python.org/3.4/c-api/tuple.html) - Tuples are **Immutable**\n",
    "* [Sets](https://docs.python.org/2/library/sets.html) - Set's only include 1 of a unique element. \n",
    "\n",
    "We can talk about these later on, but you'll encounter this much less. "
   ]
  },
  {
   "cell_type": "code",
   "execution_count": 70,
   "metadata": {},
   "outputs": [
    {
     "data": {
      "text/plain": [
       "(42, -73)"
      ]
     },
     "execution_count": 70,
     "metadata": {},
     "output_type": "execute_result"
    }
   ],
   "source": [
    "coordinates = (42, -73)  # Tuple\n",
    "coordinates"
   ]
  },
  {
   "cell_type": "code",
   "execution_count": 71,
   "metadata": {},
   "outputs": [
    {
     "data": {
      "text/plain": [
       "{'nj', 'ny'}"
      ]
     },
     "execution_count": 71,
     "metadata": {},
     "output_type": "execute_result"
    }
   ],
   "source": [
    "s = set(['nj', 'ny', 'nj', 'nj'])\n",
    "s"
   ]
  },
  {
   "cell_type": "markdown",
   "metadata": {},
   "source": [
    "## Built-in Python Functions\n",
    "We saw the `type()` function when we were looking at Data Types"
   ]
  },
  {
   "cell_type": "code",
   "execution_count": 76,
   "metadata": {},
   "outputs": [
    {
     "data": {
      "text/plain": [
       "3"
      ]
     },
     "execution_count": 76,
     "metadata": {},
     "output_type": "execute_result"
    }
   ],
   "source": [
    "round(3.2)  \n",
    "# round"
   ]
  },
  {
   "cell_type": "code",
   "execution_count": 77,
   "metadata": {},
   "outputs": [
    {
     "data": {
      "text/plain": [
       "3.12"
      ]
     },
     "execution_count": 77,
     "metadata": {},
     "output_type": "execute_result"
    }
   ],
   "source": [
    "round(3.123456, 2)  \n",
    "# round to nearest two decimal places"
   ]
  },
  {
   "cell_type": "code",
   "execution_count": 80,
   "metadata": {},
   "outputs": [
    {
     "data": {
      "text/plain": [
       "2"
      ]
     },
     "execution_count": 80,
     "metadata": {},
     "output_type": "execute_result"
    }
   ],
   "source": [
    "len(s)  \n",
    "# get the length of s, the set from above"
   ]
  },
  {
   "cell_type": "code",
   "execution_count": 84,
   "metadata": {},
   "outputs": [
    {
     "data": {
      "text/plain": [
       "range(0, 5)"
      ]
     },
     "execution_count": 84,
     "metadata": {},
     "output_type": "execute_result"
    }
   ],
   "source": [
    "r = range(5)\n",
    "r"
   ]
  },
  {
   "cell_type": "code",
   "execution_count": 85,
   "metadata": {},
   "outputs": [
    {
     "data": {
      "text/plain": [
       "[0, 1, 2, 3, 4]"
      ]
     },
     "execution_count": 85,
     "metadata": {},
     "output_type": "execute_result"
    }
   ],
   "source": [
    "list(r)"
   ]
  },
  {
   "cell_type": "code",
   "execution_count": 89,
   "metadata": {},
   "outputs": [
    {
     "data": {
      "text/plain": [
       "range(0, 100, 10)"
      ]
     },
     "execution_count": 89,
     "metadata": {},
     "output_type": "execute_result"
    }
   ],
   "source": [
    "tens = range(0, 100, 10)   # step 10\n",
    "tens"
   ]
  },
  {
   "cell_type": "code",
   "execution_count": 90,
   "metadata": {},
   "outputs": [
    {
     "data": {
      "text/plain": [
       "[0, 10, 20, 30, 40, 50, 60, 70, 80, 90]"
      ]
     },
     "execution_count": 90,
     "metadata": {},
     "output_type": "execute_result"
    }
   ],
   "source": [
    "list(tens)   # notice it does not include 100 "
   ]
  },
  {
   "cell_type": "code",
   "execution_count": null,
   "metadata": {},
   "outputs": [],
   "source": []
  },
  {
   "cell_type": "code",
   "execution_count": null,
   "metadata": {},
   "outputs": [],
   "source": []
  },
  {
   "cell_type": "markdown",
   "metadata": {},
   "source": [
    "## Python Libraries\n",
    "\n",
    "> Python’s standard library is very extensive, offering a wide range of facilities as indicated by the long table of contents listed below. The library contains built-in modules (written in C) that provide access to system functionality such as file I/O that would otherwise be inaccessible to Python programmers, as well as modules written in Python that provide standardized solutions for many problems that occur in everyday programming. Some of these modules are explicitly designed to encourage and enhance the portability of Python programs by abstracting away platform-specifics into platform-neutral APIs. Source: https://docs.python.org/3/library/\n",
    "\n",
    "Some functions are not immediately accessible and we need to `import` certain libraries for use. \n",
    "\n",
    "\n",
    "#### You can import a library for handling Dates & Time called datetime\n"
   ]
  },
  {
   "cell_type": "code",
   "execution_count": 112,
   "metadata": {},
   "outputs": [],
   "source": [
    "from datetime import datetime, date, time"
   ]
  },
  {
   "cell_type": "code",
   "execution_count": 113,
   "metadata": {},
   "outputs": [
    {
     "data": {
      "text/plain": [
       "datetime.datetime(2020, 3, 23, 14, 21, 46, 928967)"
      ]
     },
     "execution_count": 113,
     "metadata": {},
     "output_type": "execute_result"
    }
   ],
   "source": [
    "datetime.now()   "
   ]
  },
  {
   "cell_type": "code",
   "execution_count": 114,
   "metadata": {},
   "outputs": [
    {
     "data": {
      "text/plain": [
       "'Mon Mar 23 14:21:47 2020'"
      ]
     },
     "execution_count": 114,
     "metadata": {},
     "output_type": "execute_result"
    }
   ],
   "source": [
    "datetime.now().ctime()"
   ]
  },
  {
   "cell_type": "code",
   "execution_count": 115,
   "metadata": {},
   "outputs": [
    {
     "data": {
      "text/plain": [
       "'The day is 23, the month is March, the time is 02:21PM.'"
      ]
     },
     "execution_count": 115,
     "metadata": {},
     "output_type": "execute_result"
    }
   ],
   "source": [
    "'The {1} is {0:%d}, the {2} is {0:%B}, the {3} is {0:%I:%M%p}.'.format(datetime.now(), \"day\", \"month\", \"time\")"
   ]
  },
  {
   "cell_type": "markdown",
   "metadata": {},
   "source": [
    "#### You can import plotting libraries like `matplotlib` for data visuualization"
   ]
  },
  {
   "cell_type": "code",
   "execution_count": 116,
   "metadata": {},
   "outputs": [
    {
     "data": {
      "image/png": "[encoded data removed]",
      "text/plain": [
       "<Figure size 1152x1152 with 1 Axes>"
      ]
     },
     "metadata": {
      "needs_background": "light"
     },
     "output_type": "display_data"
    }
   ],
   "source": [
    "import matplotlib.pyplot as plt\n",
    "\n",
    "plt.figure(figsize=(16, 16))\n",
    "plt.subplot(111, projection=\"lambert\")\n",
    "plt.title(\"Lambert\")\n",
    "plt.grid(True)\n",
    "\n",
    "plt.show()"
   ]
  }
 ],
 "metadata": {
  "kernelspec": {
   "display_name": "Python 3",
   "language": "python",
   "name": "python3"
  },
  "language_info": {
   "codemirror_mode": {
    "name": "ipython",
    "version": 3
   },
   "file_extension": ".py",
   "mimetype": "text/x-python",
   "name": "python",
   "nbconvert_exporter": "python",
   "pygments_lexer": "ipython3",
   "version": "3.7.6"
  },
  "toc": {
   "base_numbering": 1,
   "nav_menu": {},
   "number_sections": false,
   "sideBar": true,
   "skip_h1_title": false,
   "title_cell": "Table of Contents",
   "title_sidebar": "Contents",
   "toc_cell": true,
   "toc_position": {
    "height": "calc(100% - 180px)",
    "left": "10px",
    "top": "150px",
    "width": "165px"
   },
   "toc_section_display": true,
   "toc_window_display": true
  }
 },
 "nbformat": 4,
 "nbformat_minor": 2
}
