{
 "cells": [
  {
   "cell_type": "markdown",
   "metadata": {},
   "source": [
    "# Lesson 01\n",
    "# Introduction to the Course, Course Tools, Python Setup, Jupyter Notebook, Data Types, Functions\n",
    "\n",
    "![http://www.pratt.edu/tiny_mce/plugins/imagemanager/files/Light_brown_blue22.jpg](http://www.pratt.edu/tiny_mce/plugins/imagemanager/files/Light_brown_blue22.jpg)"
   ]
  },
  {
   "cell_type": "markdown",
   "metadata": {
    "toc": true
   },
   "source": [
    "<h1>Table of Contents<span class=\"tocSkip\"></span></h1>\n",
    "<div class=\"toc\"><ul class=\"toc-item\"><li><span><a href=\"#Lesson-01\" data-toc-modified-id=\"Lesson-01-1\">Lesson 01</a></span></li><li><span><a href=\"#Introduction-to-the-Course,-Course-Tools,-Python-Setup,-Jupyter-Notebook,-Data-Types,-Functions\" data-toc-modified-id=\"Introduction-to-the-Course,-Course-Tools,-Python-Setup,-Jupyter-Notebook,-Data-Types,-Functions-2\">Introduction to the Course, Course Tools, Python Setup, Jupyter Notebook, Data Types, Functions</a></span><ul class=\"toc-item\"><li><span><a href=\"#Recommended-Resources\" data-toc-modified-id=\"Recommended-Resources-2.1\">Recommended Resources</a></span></li><li><span><a href=\"#Learning-Objectives\" data-toc-modified-id=\"Learning-Objectives-2.2\">Learning Objectives</a></span></li><li><span><a href=\"#Introduction-to-the-Course\" data-toc-modified-id=\"Introduction-to-the-Course-2.3\">Introduction to the Course</a></span></li><li><span><a href=\"#Course-Tools\" data-toc-modified-id=\"Course-Tools-2.4\">Course Tools</a></span><ul class=\"toc-item\"><li><span><a href=\"#Slack\" data-toc-modified-id=\"Slack-2.4.1\">Slack</a></span></li><li><span><a href=\"#GitHub\" data-toc-modified-id=\"GitHub-2.4.2\">GitHub</a></span></li><li><span><a href=\"#Anaconda\" data-toc-modified-id=\"Anaconda-2.4.3\">Anaconda</a></span></li><li><span><a href=\"#Jupyter-Notebook\" data-toc-modified-id=\"Jupyter-Notebook-2.4.4\">Jupyter Notebook</a></span></li><li><span><a href=\"#Google-Colab-Notebooks\" data-toc-modified-id=\"Google-Colab-Notebooks-2.4.5\">Google Colab Notebooks</a></span></li></ul></li><li><span><a href=\"#GitHub\" data-toc-modified-id=\"GitHub-2.5\">GitHub</a></span><ul class=\"toc-item\"><li><span><a href=\"#Fork-this-Lesson-Repo\" data-toc-modified-id=\"Fork-this-Lesson-Repo-2.5.1\">Fork this Lesson Repo</a></span><ul class=\"toc-item\"><li><span><a href=\"#Fork\" data-toc-modified-id=\"Fork-2.5.1.1\">Fork</a></span></li><li><span><a href=\"#Clone\" data-toc-modified-id=\"Clone-2.5.1.2\">Clone</a></span></li></ul></li></ul></li><li><span><a href=\"#Google-Colab-Notebooks---Let's-Make-a-Quick-Map-with-Python\" data-toc-modified-id=\"Google-Colab-Notebooks---Let's-Make-a-Quick-Map-with-Python-2.6\">Google Colab Notebooks - Let's Make a Quick Map with Python</a></span><ul class=\"toc-item\"><li><ul class=\"toc-item\"><li><span><a href=\"#In-the-first-cell-add:\" data-toc-modified-id=\"In-the-first-cell-add:-2.6.0.1\">In the first cell add:</a></span></li><li><span><a href=\"#Then,-we-import-the-following-libraries\" data-toc-modified-id=\"Then,-we-import-the-following-libraries-2.6.0.2\">Then, we import the following libraries</a></span></li><li><span><a href=\"#Next,-we'll-load-in-Natural-Earth-World-Countries-Features\" data-toc-modified-id=\"Next,-we'll-load-in-Natural-Earth-World-Countries-Features-2.6.0.3\">Next, we'll load in Natural Earth World Countries Features</a></span></li><li><span><a href=\"#Now-let's-take-a-look-at-the-Countries-Feature-Layer-dataframe\" data-toc-modified-id=\"Now-let's-take-a-look-at-the-Countries-Feature-Layer-dataframe-2.6.0.4\">Now let's take a look at the Countries Feature Layer dataframe</a></span></li><li><span><a href=\"#Now-let's-Make-a-Map!\" data-toc-modified-id=\"Now-let's-Make-a-Map!-2.6.0.5\">Now let's Make a Map!</a></span></li></ul></li></ul></li><li><span><a href=\"#Python-Setup\" data-toc-modified-id=\"Python-Setup-2.7\">Python Setup</a></span><ul class=\"toc-item\"><li><span><a href=\"#Anaconda---Python-3.7\" data-toc-modified-id=\"Anaconda---Python-3.7-2.7.1\">Anaconda - Python 3.7</a></span></li></ul></li><li><span><a href=\"#Python-Data-Types\" data-toc-modified-id=\"Python-Data-Types-2.8\">Python Data Types</a></span><ul class=\"toc-item\"><li><span><a href=\"#Integers\" data-toc-modified-id=\"Integers-2.8.1\">Integers</a></span></li><li><span><a href=\"#Float\" data-toc-modified-id=\"Float-2.8.2\">Float</a></span></li><li><span><a href=\"#Boolean\" data-toc-modified-id=\"Boolean-2.8.3\">Boolean</a></span></li><li><span><a href=\"#Strings\" data-toc-modified-id=\"Strings-2.8.4\">Strings</a></span></li><li><span><a href=\"#Properties-of-Strings\" data-toc-modified-id=\"Properties-of-Strings-2.8.5\">Properties of Strings</a></span><ul class=\"toc-item\"><li><span><a href=\"#Slice\" data-toc-modified-id=\"Slice-2.8.5.1\">Slice</a></span></li></ul></li><li><span><a href=\"#Python-Operators-(+,-=,--,-*)\" data-toc-modified-id=\"Python-Operators-(+,-=,--,-*)-2.8.6\">Python Operators (+, =, -, *)</a></span><ul class=\"toc-item\"><li><span><a href=\"#Addition\" data-toc-modified-id=\"Addition-2.8.6.1\">Addition</a></span></li><li><span><a href=\"#Subtraction\" data-toc-modified-id=\"Subtraction-2.8.6.2\">Subtraction</a></span></li><li><span><a href=\"#Multiplication\" data-toc-modified-id=\"Multiplication-2.8.6.3\">Multiplication</a></span></li><li><span><a href=\"#Division\" data-toc-modified-id=\"Division-2.8.6.4\">Division</a></span></li><li><span><a href=\"#Floor-Operator\" data-toc-modified-id=\"Floor-Operator-2.8.6.5\">Floor Operator</a></span></li><li><span><a href=\"#Modulo-Operator\" data-toc-modified-id=\"Modulo-Operator-2.8.6.6\">Modulo Operator</a></span></li><li><span><a href=\"#Exponentiate\" data-toc-modified-id=\"Exponentiate-2.8.6.7\">Exponentiate</a></span></li></ul></li></ul></li><li><span><a href=\"#Variables\" data-toc-modified-id=\"Variables-2.9\">Variables</a></span><ul class=\"toc-item\"><li><span><a href=\"#Variable-Naming-Rules\" data-toc-modified-id=\"Variable-Naming-Rules-2.9.1\">Variable Naming Rules</a></span></li></ul></li><li><span><a href=\"#Collections-Data-Types\" data-toc-modified-id=\"Collections-Data-Types-2.10\">Collections Data Types</a></span><ul class=\"toc-item\"><li><span><a href=\"#List\" data-toc-modified-id=\"List-2.10.1\">List</a></span></li><li><span><a href=\"#Dictionaries\" data-toc-modified-id=\"Dictionaries-2.10.2\">Dictionaries</a></span><ul class=\"toc-item\"><li><span><a href=\"#Dictionaries-can-be-nested\" data-toc-modified-id=\"Dictionaries-can-be-nested-2.10.2.1\">Dictionaries can be nested</a></span></li></ul></li><li><span><a href=\"#Other-Collection-Types\" data-toc-modified-id=\"Other-Collection-Types-2.10.3\">Other Collection Types</a></span></li></ul></li><li><span><a href=\"#Built-in-Python-Functions\" data-toc-modified-id=\"Built-in-Python-Functions-2.11\">Built-in Python Functions</a></span></li></ul></li></ul></div>"
   ]
  },
  {
   "cell_type": "markdown",
   "metadata": {},
   "source": [
    "## Recommended Resources\n",
    "\n"
   ]
  },
  {
   "cell_type": "markdown",
   "metadata": {},
   "source": [
    "## Learning Objectives\n",
    "\n",
    "* To familiarize students with the course format\n",
    "* Introduce the Course Tools\n",
    "* Introduce Students to our Python Setup\n",
    "* Introduction to Python Data Types\n",
    "* Introduction to Python Functions"
   ]
  },
  {
   "cell_type": "markdown",
   "metadata": {},
   "source": [
    "## Introduction to the Course\n",
    "\n",
    "**[Syllabus](https://docs.google.com/document/d/1KHxT-NkaoXXdSNkK8JlzL2FFgmNoxPQ25fwgtXPnbrY)**\n",
    "\n",
    "**Class Format**:\n",
    "* 3 hour Classes\n",
    "  * 50 minutes of Lesson\n",
    "  * 5-10 minute Break\n",
    "  * 50 minutes of Lesson\n",
    "  * 5-10 minute Break\n",
    "  * ~45 minutes of Lesson\n",
    "  * 10-15 minutes Homework Introduction, etc. \n",
    "  * (this is subject to change)"
   ]
  },
  {
   "cell_type": "markdown",
   "metadata": {},
   "source": [
    "## Course Tools \n",
    "\n",
    "### Slack \n",
    "* [Join the Slack Group](https://join.slack.com/t/pratt-savi/shared_invite/zt-cywzjb3p-4Q_JaZNuenRGgf28tyMbRw)\n",
    "\n",
    "### GitHub\n",
    "\n",
    "* [Download GitHub Desktop](https://desktop.github.com/)\n",
    "* [Create a GitHub Account](https://github.com/)\n",
    "\n",
    "### Anaconda\n",
    "\n",
    "* [Download and Install Anaconda for Python 3.7](https://www.anaconda.com/distribution/#download-section)\n",
    "* [Installation Instructions](https://docs.anaconda.com/anaconda/install/)\n",
    "* [Download Anaconda Cheatsheet](https://docs.conda.io/projects/conda/en/4.6.0/_downloads/52a95608c49671267e40c689e0bc00ca/conda-cheatsheet.pdf)\n",
    "* ``conda create --name savi``\n",
    "\n",
    "\n",
    "### Jupyter Notebook\n",
    "> The Jupyter Notebook is an open-source web application that allows you to create and share documents that contain live code, equations, visualizations and narrative text. Uses include: data cleaning and transformation, numerical simulation, statistical modeling, data visualization, machine learning, and much more. - Source: [https://jupyter.org/](https://jupyter.org/)\n",
    "\n",
    "### Google Colab Notebooks\n",
    "\n",
    "* [Create a new Notebook](https://colab.research.google.com/notebook#create=true)\n",
    "\n",
    "\n",
    "\n",
    "\n",
    "\n",
    "\n"
   ]
  },
  {
   "cell_type": "markdown",
   "metadata": {},
   "source": [
    "## GitHub\n",
    "\n",
    "### Fork this Lesson Repo\n",
    "\n",
    "https://github.com/pratt-savi-810/pratt-savi-810-2020-03-lesson_01\n",
    "\n",
    "#### Fork\n",
    "\n",
    "![fork](https://raw.githubusercontent.com/pratt-savi-810/images/master/fork.png)\n",
    "\n",
    "---\n",
    "\n",
    "#### Clone \n",
    "\n",
    "![clone](https://raw.githubusercontent.com/pratt-savi-810/images/master/clone.png)\n"
   ]
  },
  {
   "cell_type": "markdown",
   "metadata": {},
   "source": [
    "## Google Colab Notebooks - Let's Make a Quick Map with Python\n",
    "\n",
    "![colab](https://raw.githubusercontent.com/pratt-savi-810/images/master/colab_map.png)\n",
    "\n",
    "* [Create a new Notebook](https://colab.research.google.com/notebook#create=true)\n",
    "\n",
    "#### In the first cell add:\n",
    "\n",
    "```python\n",
    "%%time \n",
    "!apt update\n",
    "!apt upgrade\n",
    "!apt install gdal-bin python-gdal python3-gdal \n",
    "# Install rtree - Geopandas requirment\n",
    "!apt install python3-rtree \n",
    "# Install Geopandas\n",
    "!pip install git+git://github.com/geopandas/geopandas.git\n",
    "# Install descartes - Geopandas requirment\n",
    "!pip install descartes \n",
    "```\n",
    "\n",
    "#### Then, we import the following libraries\n",
    "We'll discuss Libraries later on. "
   ]
  },
  {
   "cell_type": "code",
   "execution_count": 6,
   "metadata": {},
   "outputs": [
    {
     "name": "stderr",
     "output_type": "stream",
     "text": [
      "'apt' is not recognized as an internal or external command,\n",
      "operable program or batch file.\n",
      "'apt' is not recognized as an internal or external command,\n",
      "operable program or batch file.\n",
      "'apt' is not recognized as an internal or external command,\n",
      "operable program or batch file.\n",
      "'apt' is not recognized as an internal or external command,\n",
      "operable program or batch file.\n"
     ]
    },
    {
     "name": "stdout",
     "output_type": "stream",
     "text": [
      "Collecting git+git://github.com/geopandas/geopandas.git\n",
      "  Cloning git://github.com/geopandas/geopandas.git to c:\\users\\dun4g\\appdata\\local\\temp\\pip-req-build-tquvnse9\n",
      "Requirement already satisfied: pandas>=0.23.0 in c:\\users\\dun4g\\anaconda3\\lib\\site-packages (from geopandas==0.7.0+13.g6b037d0) (1.0.1)\n",
      "Collecting shapely\n",
      "  Downloading Shapely-1.7.0-cp37-cp37m-win_amd64.whl (1.0 MB)\n",
      "Collecting fiona\n",
      "  Downloading Fiona-1.8.13.post1.tar.gz (1.2 MB)\n"
     ]
    },
    {
     "name": "stderr",
     "output_type": "stream",
     "text": [
      "  Running command git clone -q git://github.com/geopandas/geopandas.git 'C:\\Users\\dun4g\\AppData\\Local\\Temp\\pip-req-build-tquvnse9'\n",
      "    ERROR: Command errored out with exit status 1:\n",
      "     command: 'C:\\Users\\dun4g\\anaconda3\\python.exe' -c 'import sys, setuptools, tokenize; sys.argv[0] = '\"'\"'C:\\\\Users\\\\dun4g\\\\AppData\\\\Local\\\\Temp\\\\pip-install-pm0i1ur0\\\\fiona\\\\setup.py'\"'\"'; __file__='\"'\"'C:\\\\Users\\\\dun4g\\\\AppData\\\\Local\\\\Temp\\\\pip-install-pm0i1ur0\\\\fiona\\\\setup.py'\"'\"';f=getattr(tokenize, '\"'\"'open'\"'\"', open)(__file__);code=f.read().replace('\"'\"'\\r\\n'\"'\"', '\"'\"'\\n'\"'\"');f.close();exec(compile(code, __file__, '\"'\"'exec'\"'\"'))' egg_info --egg-base 'C:\\Users\\dun4g\\AppData\\Local\\Temp\\pip-install-pm0i1ur0\\fiona\\pip-egg-info'\n",
      "         cwd: C:\\Users\\dun4g\\AppData\\Local\\Temp\\pip-install-pm0i1ur0\\fiona\\\n",
      "    Complete output (1 lines):\n",
      "    A GDAL API version must be specified. Provide a path to gdal-config using a GDAL_CONFIG environment variable or use a GDAL_VERSION environment variable.\n",
      "    ----------------------------------------\n",
      "ERROR: Command errored out with exit status 1: python setup.py egg_info Check the logs for full command output.\n"
     ]
    },
    {
     "name": "stdout",
     "output_type": "stream",
     "text": [
      "Collecting descartes\n",
      "  Downloading descartes-1.1.0-py3-none-any.whl (5.8 kB)\n",
      "Requirement already satisfied: matplotlib in c:\\users\\dun4g\\anaconda3\\lib\\site-packages (from descartes) (3.1.3)\n",
      "Requirement already satisfied: pyparsing!=2.0.4,!=2.1.2,!=2.1.6,>=2.0.1 in c:\\users\\dun4g\\anaconda3\\lib\\site-packages (from matplotlib->descartes) (2.4.6)\n",
      "Requirement already satisfied: numpy>=1.11 in c:\\users\\dun4g\\anaconda3\\lib\\site-packages (from matplotlib->descartes) (1.18.1)\n",
      "Requirement already satisfied: cycler>=0.10 in c:\\users\\dun4g\\anaconda3\\lib\\site-packages (from matplotlib->descartes) (0.10.0)\n",
      "Requirement already satisfied: kiwisolver>=1.0.1 in c:\\users\\dun4g\\anaconda3\\lib\\site-packages (from matplotlib->descartes) (1.1.0)\n",
      "Requirement already satisfied: python-dateutil>=2.1 in c:\\users\\dun4g\\anaconda3\\lib\\site-packages (from matplotlib->descartes) (2.8.1)\n",
      "Requirement already satisfied: six in c:\\users\\dun4g\\anaconda3\\lib\\site-packages (from cycler>=0.10->matplotlib->descartes) (1.14.0)\n",
      "Requirement already satisfied: setuptools in c:\\users\\dun4g\\anaconda3\\lib\\site-packages (from kiwisolver>=1.0.1->matplotlib->descartes) (45.2.0.post20200210)\n",
      "Installing collected packages: descartes\n",
      "Successfully installed descartes-1.1.0\n",
      "Wall time: 1min 54s\n"
     ]
    }
   ],
   "source": [
    "import os  # importing the os python library\n",
    "import geopandas as gpd   # import geopandas\n",
    "\n",
    "# I use the hash symbol to comment my code \n",
    "# We use commenting to talk to the code reader, and to explain what we're doing \n",
    "# in this section of code"
   ]
  },
  {
   "cell_type": "markdown",
   "metadata": {},
   "source": [
    "#### Next, we'll load in Natural Earth World Countries Features \n",
    "These features are natively installed with GeoPandas. We'll talk about GeoPandas later on as well."
   ]
  },
  {
   "cell_type": "code",
   "execution_count": 4,
   "metadata": {},
   "outputs": [
    {
     "ename": "NameError",
     "evalue": "name 'gpd' is not defined",
     "output_type": "error",
     "traceback": [
      "\u001b[1;31m---------------------------------------------------------------------------\u001b[0m",
      "\u001b[1;31mNameError\u001b[0m                                 Traceback (most recent call last)",
      "\u001b[1;32m<ipython-input-4-add4bbdeb49a>\u001b[0m in \u001b[0;36m<module>\u001b[1;34m\u001b[0m\n\u001b[1;32m----> 1\u001b[1;33m countries = gpd.read_file(\n\u001b[0m\u001b[0;32m      2\u001b[0m     \u001b[0mgpd\u001b[0m\u001b[1;33m.\u001b[0m\u001b[0mdatasets\u001b[0m\u001b[1;33m.\u001b[0m\u001b[0mget_path\u001b[0m\u001b[1;33m(\u001b[0m\u001b[1;34m'naturalearth_lowres'\u001b[0m\u001b[1;33m)\u001b[0m\u001b[1;33m\u001b[0m\u001b[1;33m\u001b[0m\u001b[0m\n\u001b[0;32m      3\u001b[0m )  # but what I've done is read in a geospatial file. \n",
      "\u001b[1;31mNameError\u001b[0m: name 'gpd' is not defined"
     ]
    }
   ],
   "source": [
    "countries = gpd.read_file(\n",
    "    gpd.datasets.get_path('naturalearth_lowres')\n",
    ")  # but what I've done is read in a geospatial file. "
   ]
  },
  {
   "cell_type": "markdown",
   "metadata": {},
   "source": [
    "#### Now let's take a look at the Countries Feature Layer dataframe \n",
    "We'll talk about DataFrames later on. "
   ]
  },
  {
   "cell_type": "code",
   "execution_count": null,
   "metadata": {},
   "outputs": [],
   "source": [
    "countries"
   ]
  },
  {
   "cell_type": "markdown",
   "metadata": {},
   "source": [
    "#### Now let's Make a Map!\n",
    "This is very easy with GeoPandas. Making maps later on will be more complicated. "
   ]
  },
  {
   "cell_type": "code",
   "execution_count": null,
   "metadata": {},
   "outputs": [],
   "source": [
    "countries.plot()"
   ]
  },
  {
   "cell_type": "markdown",
   "metadata": {},
   "source": [
    "## Python Setup\n"
   ]
  },
  {
   "cell_type": "markdown",
   "metadata": {},
   "source": [
    "For this class we will use Anaconda Python.\n",
    "\n",
    "### Anaconda - Python 3.7\n",
    "\n",
    "* [Download and Install Anaconda for Python 3.7](https://www.anaconda.com/distribution/#download-section)\n",
    "* [Installation Instructions](https://docs.anaconda.com/anaconda/install/)\n",
    "* [Download Anaconda Cheatsheet](https://docs.conda.io/projects/conda/en/4.6.0/_downloads/52a95608c49671267e40c689e0bc00ca/conda-cheatsheet.pdf)\n",
    "* ``conda create --name savi``"
   ]
  },
  {
   "cell_type": "markdown",
   "metadata": {},
   "source": [
    "## Python Data Types\n",
    "Learn more about [Python Data Types from Python.org](https://docs.python.org/3.7/library/datatypes.html).\n",
    "\n",
    "You can check any Python object's type with the `type()` function. \n",
    "\n",
    "### Integers "
   ]
  },
  {
   "cell_type": "code",
   "execution_count": 2,
   "metadata": {},
   "outputs": [],
   "source": [
    "a = 5"
   ]
  },
  {
   "cell_type": "code",
   "execution_count": 3,
   "metadata": {},
   "outputs": [
    {
     "data": {
      "text/plain": [
       "int"
      ]
     },
     "execution_count": 3,
     "metadata": {},
     "output_type": "execute_result"
    }
   ],
   "source": [
    "type(a)"
   ]
  },
  {
   "cell_type": "markdown",
   "metadata": {},
   "source": [
    "### Float \n",
    "Floats are decimal numeric types"
   ]
  },
  {
   "cell_type": "code",
   "execution_count": 7,
   "metadata": {},
   "outputs": [
    {
     "data": {
      "text/plain": [
       "1.25"
      ]
     },
     "execution_count": 7,
     "metadata": {},
     "output_type": "execute_result"
    }
   ],
   "source": [
    "1.25"
   ]
  },
  {
   "cell_type": "code",
   "execution_count": 10,
   "metadata": {},
   "outputs": [],
   "source": [
    "x = 5.02162"
   ]
  },
  {
   "cell_type": "code",
   "execution_count": 9,
   "metadata": {},
   "outputs": [
    {
     "data": {
      "text/plain": [
       "float"
      ]
     },
     "execution_count": 9,
     "metadata": {},
     "output_type": "execute_result"
    }
   ],
   "source": [
    "type(x)"
   ]
  },
  {
   "cell_type": "markdown",
   "metadata": {},
   "source": [
    "### Boolean \n",
    "\n",
    "`True` or `False` data type"
   ]
  },
  {
   "cell_type": "code",
   "execution_count": 11,
   "metadata": {},
   "outputs": [
    {
     "data": {
      "text/plain": [
       "bool"
      ]
     },
     "execution_count": 11,
     "metadata": {},
     "output_type": "execute_result"
    }
   ],
   "source": [
    "type(True)"
   ]
  },
  {
   "cell_type": "code",
   "execution_count": 12,
   "metadata": {},
   "outputs": [
    {
     "data": {
      "text/plain": [
       "bool"
      ]
     },
     "execution_count": 12,
     "metadata": {},
     "output_type": "execute_result"
    }
   ],
   "source": [
    "type(False)"
   ]
  },
  {
   "cell_type": "code",
   "execution_count": 13,
   "metadata": {},
   "outputs": [
    {
     "data": {
      "text/plain": [
       "False"
      ]
     },
     "execution_count": 13,
     "metadata": {},
     "output_type": "execute_result"
    }
   ],
   "source": [
    "not True"
   ]
  },
  {
   "cell_type": "code",
   "execution_count": 14,
   "metadata": {},
   "outputs": [
    {
     "data": {
      "text/plain": [
       "True"
      ]
     },
     "execution_count": 14,
     "metadata": {},
     "output_type": "execute_result"
    }
   ],
   "source": [
    "not False"
   ]
  },
  {
   "cell_type": "code",
   "execution_count": 15,
   "metadata": {},
   "outputs": [
    {
     "data": {
      "text/plain": [
       "True"
      ]
     },
     "execution_count": 15,
     "metadata": {},
     "output_type": "execute_result"
    }
   ],
   "source": [
    "1 == True\n",
    "# True is 1  == is the Equality Operator "
   ]
  },
  {
   "cell_type": "code",
   "execution_count": 17,
   "metadata": {},
   "outputs": [
    {
     "data": {
      "text/plain": [
       "False"
      ]
     },
     "execution_count": 17,
     "metadata": {},
     "output_type": "execute_result"
    }
   ],
   "source": [
    "1 == False\n",
    "# False is 0  == is the Equality Operator "
   ]
  },
  {
   "cell_type": "code",
   "execution_count": 18,
   "metadata": {},
   "outputs": [
    {
     "data": {
      "text/plain": [
       "True"
      ]
     },
     "execution_count": 18,
     "metadata": {},
     "output_type": "execute_result"
    }
   ],
   "source": [
    "0 == False"
   ]
  },
  {
   "cell_type": "code",
   "execution_count": 19,
   "metadata": {},
   "outputs": [
    {
     "data": {
      "text/plain": [
       "True"
      ]
     },
     "execution_count": 19,
     "metadata": {},
     "output_type": "execute_result"
    }
   ],
   "source": [
    "True == 1"
   ]
  },
  {
   "cell_type": "code",
   "execution_count": 21,
   "metadata": {},
   "outputs": [
    {
     "data": {
      "text/plain": [
       "True"
      ]
     },
     "execution_count": 21,
     "metadata": {},
     "output_type": "execute_result"
    }
   ],
   "source": [
    "False < 1\n",
    "# False is 0"
   ]
  },
  {
   "cell_type": "markdown",
   "metadata": {},
   "source": [
    "### Strings\n",
    "Strings are a data type that stores text as data. \n",
    "\n",
    "**You can add comments to lines of codes with the hash symbol** `# comment`"
   ]
  },
  {
   "cell_type": "code",
   "execution_count": 25,
   "metadata": {},
   "outputs": [
    {
     "data": {
      "text/plain": [
       "'Pratt SAVI GIS and Design'"
      ]
     },
     "execution_count": 25,
     "metadata": {},
     "output_type": "execute_result"
    }
   ],
   "source": [
    "# strings can be stored inside double-quotes\n",
    "\"Pratt SAVI GIS and Design\""
   ]
  },
  {
   "cell_type": "code",
   "execution_count": 26,
   "metadata": {},
   "outputs": [
    {
     "data": {
      "text/plain": [
       "'GIS Data Analysis'"
      ]
     },
     "execution_count": 26,
     "metadata": {},
     "output_type": "execute_result"
    }
   ],
   "source": [
    "# strings can be stored in single-quotes\n",
    "'GIS Data Analysis'"
   ]
  },
  {
   "cell_type": "code",
   "execution_count": 27,
   "metadata": {},
   "outputs": [],
   "source": [
    "# you can set a \"variable\" to equal the string to store for later...\n",
    "first_name = \"Katherine\""
   ]
  },
  {
   "cell_type": "code",
   "execution_count": 29,
   "metadata": {},
   "outputs": [],
   "source": [
    "last_name = \"Kim\""
   ]
  },
  {
   "cell_type": "code",
   "execution_count": 32,
   "metadata": {},
   "outputs": [],
   "source": [
    "full_name = first_name + ' ' + last_name"
   ]
  },
  {
   "cell_type": "code",
   "execution_count": 33,
   "metadata": {},
   "outputs": [
    {
     "name": "stdout",
     "output_type": "stream",
     "text": [
      "Katherine Kim\n"
     ]
    }
   ],
   "source": [
    "print(full_name)"
   ]
  },
  {
   "cell_type": "markdown",
   "metadata": {},
   "source": [
    "### Properties of Strings\n",
    "You can "
   ]
  },
  {
   "cell_type": "code",
   "execution_count": 34,
   "metadata": {},
   "outputs": [
    {
     "data": {
      "text/plain": [
       "'KATHERINE KIM'"
      ]
     },
     "execution_count": 34,
     "metadata": {},
     "output_type": "execute_result"
    }
   ],
   "source": [
    "full_name.upper()  #SHIFT + TAB + TAB will show you the detail of the method"
   ]
  },
  {
   "cell_type": "code",
   "execution_count": 35,
   "metadata": {},
   "outputs": [
    {
     "data": {
      "text/plain": [
       "'katherine kim'"
      ]
     },
     "execution_count": 35,
     "metadata": {},
     "output_type": "execute_result"
    }
   ],
   "source": [
    "full_name.lower()"
   ]
  },
  {
   "cell_type": "code",
   "execution_count": 36,
   "metadata": {},
   "outputs": [
    {
     "data": {
      "text/plain": [
       "13"
      ]
     },
     "execution_count": 36,
     "metadata": {},
     "output_type": "execute_result"
    }
   ],
   "source": [
    "len(full_name)"
   ]
  },
  {
   "cell_type": "code",
   "execution_count": 39,
   "metadata": {},
   "outputs": [
    {
     "data": {
      "text/plain": [
       "['Katherine', 'Kim']"
      ]
     },
     "execution_count": 39,
     "metadata": {},
     "output_type": "execute_result"
    }
   ],
   "source": [
    "full_name.split()"
   ]
  },
  {
   "cell_type": "code",
   "execution_count": 40,
   "metadata": {},
   "outputs": [
    {
     "data": {
      "text/plain": [
       "['Ka', 'herine Kim']"
      ]
     },
     "execution_count": 40,
     "metadata": {},
     "output_type": "execute_result"
    }
   ],
   "source": [
    "full_name.split('t')   #split by 't'"
   ]
  },
  {
   "cell_type": "markdown",
   "metadata": {},
   "source": [
    "#### Slice"
   ]
  },
  {
   "cell_type": "code",
   "execution_count": 41,
   "metadata": {},
   "outputs": [
    {
     "data": {
      "text/plain": [
       "'K'"
      ]
     },
     "execution_count": 41,
     "metadata": {},
     "output_type": "execute_result"
    }
   ],
   "source": [
    "first_name[0]"
   ]
  },
  {
   "cell_type": "code",
   "execution_count": 49,
   "metadata": {},
   "outputs": [
    {
     "data": {
      "text/plain": [
       "'h'"
      ]
     },
     "execution_count": 49,
     "metadata": {},
     "output_type": "execute_result"
    }
   ],
   "source": [
    "first_name[3]"
   ]
  },
  {
   "cell_type": "code",
   "execution_count": 52,
   "metadata": {},
   "outputs": [
    {
     "data": {
      "text/plain": [
       "'a'"
      ]
     },
     "execution_count": 52,
     "metadata": {},
     "output_type": "execute_result"
    }
   ],
   "source": [
    "# gets middle \n",
    "first_name[]"
   ]
  },
  {
   "cell_type": "code",
   "execution_count": 47,
   "metadata": {},
   "outputs": [
    {
     "data": {
      "text/plain": [
       "'Kat'"
      ]
     },
     "execution_count": 47,
     "metadata": {},
     "output_type": "execute_result"
    }
   ],
   "source": [
    "# gets first three, index 0, 1, 2\n",
    "first_name[:3]"
   ]
  },
  {
   "cell_type": "code",
   "execution_count": 46,
   "metadata": {},
   "outputs": [
    {
     "data": {
      "text/plain": [
       "'Kat'"
      ]
     },
     "execution_count": 46,
     "metadata": {},
     "output_type": "execute_result"
    }
   ],
   "source": [
    "# Also gets first three\n",
    "first_name[0:3]"
   ]
  },
  {
   "cell_type": "code",
   "execution_count": 44,
   "metadata": {},
   "outputs": [
    {
     "data": {
      "text/plain": [
       "'atherine'"
      ]
     },
     "execution_count": 44,
     "metadata": {},
     "output_type": "execute_result"
    }
   ],
   "source": [
    "# Gets all but first 1\n",
    "first_name[1:]"
   ]
  },
  {
   "cell_type": "code",
   "execution_count": 43,
   "metadata": {},
   "outputs": [
    {
     "data": {
      "text/plain": [
       "'enirehtaK'"
      ]
     },
     "execution_count": 43,
     "metadata": {},
     "output_type": "execute_result"
    }
   ],
   "source": [
    "# reversed\n",
    "first_name[::-1]"
   ]
  },
  {
   "cell_type": "markdown",
   "metadata": {},
   "source": [
    "### Python Operators (+, =, -, *)\n",
    "\n",
    "#### Addition"
   ]
  },
  {
   "cell_type": "code",
   "execution_count": null,
   "metadata": {},
   "outputs": [],
   "source": []
  },
  {
   "cell_type": "code",
   "execution_count": null,
   "metadata": {},
   "outputs": [],
   "source": []
  },
  {
   "cell_type": "code",
   "execution_count": 12,
   "metadata": {},
   "outputs": [],
   "source": [
    "# you can add strings together with + \n"
   ]
  },
  {
   "cell_type": "markdown",
   "metadata": {},
   "source": [
    "#### Subtraction"
   ]
  },
  {
   "cell_type": "code",
   "execution_count": null,
   "metadata": {},
   "outputs": [],
   "source": []
  },
  {
   "cell_type": "markdown",
   "metadata": {},
   "source": [
    "#### Multiplication\n"
   ]
  },
  {
   "cell_type": "code",
   "execution_count": null,
   "metadata": {},
   "outputs": [],
   "source": []
  },
  {
   "cell_type": "code",
   "execution_count": 13,
   "metadata": {},
   "outputs": [],
   "source": [
    "# you can multiply strings!"
   ]
  },
  {
   "cell_type": "markdown",
   "metadata": {},
   "source": [
    "#### Division"
   ]
  },
  {
   "cell_type": "code",
   "execution_count": 54,
   "metadata": {},
   "outputs": [
    {
     "data": {
      "text/plain": [
       "3.3333333333333335"
      ]
     },
     "execution_count": 54,
     "metadata": {},
     "output_type": "execute_result"
    }
   ],
   "source": [
    "# Note this operates slightly differently for integers in Python 2.x\n",
    "10/3"
   ]
  },
  {
   "cell_type": "markdown",
   "metadata": {},
   "source": [
    "#### Floor Operator \n",
    "\n",
    "> The / (division) and // (floor division) operators yield the quotient of their arguments. The numeric arguments are first converted to a common type. Division of integers yields a float, while floor division of integers results in an integer; the result is that of mathematical division with the ‘floor’ function applied to the result. Division by zero raises the ZeroDivisionError exception. - Source: [https://docs.python.org/3.3/reference/expressions.html#binary-arithmetic-operations](https://docs.python.org/3.3/reference/expressions.html#binary-arithmetic-operations)"
   ]
  },
  {
   "cell_type": "code",
   "execution_count": 53,
   "metadata": {},
   "outputs": [
    {
     "data": {
      "text/plain": [
       "3"
      ]
     },
     "execution_count": 53,
     "metadata": {},
     "output_type": "execute_result"
    }
   ],
   "source": [
    "10 // 3"
   ]
  },
  {
   "cell_type": "markdown",
   "metadata": {},
   "source": [
    "#### Modulo Operator\n",
    "\n",
    "> The % (modulo) operator yields the remainder from the division of the first argument by the second. The numeric arguments are first converted to a common type. A zero right argument raises the ZeroDivisionError exception. The arguments may be floating point numbers, e.g., 3.14%0.7 equals 0.34 (since 3.14 equals 4*0.7 + 0.34.) The modulo operator always yields a result with the same sign as its second operand (or zero); the absolute value of the result is strictly smaller than the absolute value of the second operand [1]. - Source: [https://docs.python.org/3.3/reference/expressions.html#binary-arithmetic-operations](https://docs.python.org/3.3/reference/expressions.html#binary-arithmetic-operations)"
   ]
  },
  {
   "cell_type": "code",
   "execution_count": 55,
   "metadata": {},
   "outputs": [
    {
     "data": {
      "text/plain": [
       "1"
      ]
     },
     "execution_count": 55,
     "metadata": {},
     "output_type": "execute_result"
    }
   ],
   "source": [
    "# the remainder from the division of the first argument by the second\n",
    "10 % 3"
   ]
  },
  {
   "cell_type": "markdown",
   "metadata": {},
   "source": [
    "#### Exponentiate"
   ]
  },
  {
   "cell_type": "code",
   "execution_count": 56,
   "metadata": {},
   "outputs": [
    {
     "data": {
      "text/plain": [
       "25"
      ]
     },
     "execution_count": 56,
     "metadata": {},
     "output_type": "execute_result"
    }
   ],
   "source": [
    "5 ** 2"
   ]
  },
  {
   "cell_type": "markdown",
   "metadata": {},
   "source": [
    "## Variables\n",
    "\n",
    "Often in Python, you want to reuse some value, you can do this easily using a **Variable**. I can overwrite some defined Variables if the datatype is **Mutable**. "
   ]
  },
  {
   "cell_type": "markdown",
   "metadata": {},
   "source": [
    "### Variable Naming Rules\n",
    "\n",
    "* Use lowercase without spaces.\n",
    "* Use underscores in place of spaces.\n",
    "* Name variables descriptively. \n",
    "* Do not start variable name with a number. \n",
    "* Avoid existing function and built-in names. "
   ]
  },
  {
   "cell_type": "code",
   "execution_count": 57,
   "metadata": {},
   "outputs": [],
   "source": []
  },
  {
   "cell_type": "code",
   "execution_count": 58,
   "metadata": {},
   "outputs": [
    {
     "data": {
      "text/plain": [
       "list"
      ]
     },
     "execution_count": 58,
     "metadata": {},
     "output_type": "execute_result"
    }
   ],
   "source": []
  },
  {
   "cell_type": "code",
   "execution_count": 59,
   "metadata": {},
   "outputs": [
    {
     "data": {
      "text/plain": [
       "5"
      ]
     },
     "execution_count": 59,
     "metadata": {},
     "output_type": "execute_result"
    }
   ],
   "source": []
  },
  {
   "cell_type": "code",
   "execution_count": 61,
   "metadata": {},
   "outputs": [
    {
     "data": {
      "text/plain": [
       "'Kat'"
      ]
     },
     "execution_count": 61,
     "metadata": {},
     "output_type": "execute_result"
    }
   ],
   "source": []
  },
  {
   "cell_type": "code",
   "execution_count": 62,
   "metadata": {},
   "outputs": [],
   "source": []
  },
  {
   "cell_type": "code",
   "execution_count": 63,
   "metadata": {},
   "outputs": [
    {
     "data": {
      "text/plain": [
       "['Sara', 'Anna', 'Rodger', 'Kat', 'Matt', 'Unknown']"
      ]
     },
     "execution_count": 63,
     "metadata": {},
     "output_type": "execute_result"
    }
   ],
   "source": []
  },
  {
   "cell_type": "markdown",
   "metadata": {},
   "source": [
    "## Collections Data Types\n",
    "\n",
    "### List\n",
    "A list is a simple collection type, it is **Mutable**, you can add and/or remove items to it. Lists are **ordered**."
   ]
  },
  {
   "cell_type": "code",
   "execution_count": 64,
   "metadata": {},
   "outputs": [],
   "source": [
    "students = ['Sara', 'Anna', 'Rodger', 'Kat', \"Matt\"]"
   ]
  },
  {
   "cell_type": "code",
   "execution_count": 65,
   "metadata": {},
   "outputs": [
    {
     "data": {
      "text/plain": [
       "list"
      ]
     },
     "execution_count": 65,
     "metadata": {},
     "output_type": "execute_result"
    }
   ],
   "source": [
    "type(students)"
   ]
  },
  {
   "cell_type": "code",
   "execution_count": 66,
   "metadata": {},
   "outputs": [
    {
     "data": {
      "text/plain": [
       "5"
      ]
     },
     "execution_count": 66,
     "metadata": {},
     "output_type": "execute_result"
    }
   ],
   "source": [
    "len(students)"
   ]
  },
  {
   "cell_type": "code",
   "execution_count": 67,
   "metadata": {},
   "outputs": [
    {
     "data": {
      "text/plain": [
       "'Kat'"
      ]
     },
     "execution_count": 67,
     "metadata": {},
     "output_type": "execute_result"
    }
   ],
   "source": [
    "students[3]"
   ]
  },
  {
   "cell_type": "code",
   "execution_count": 81,
   "metadata": {},
   "outputs": [],
   "source": [
    "students.append('Unknown')"
   ]
  },
  {
   "cell_type": "code",
   "execution_count": 82,
   "metadata": {},
   "outputs": [
    {
     "data": {
      "text/plain": [
       "['Anna', 'Kat', 'Matt', 'Rodger', 'Sara', 'Unknown']"
      ]
     },
     "execution_count": 82,
     "metadata": {},
     "output_type": "execute_result"
    }
   ],
   "source": [
    "students"
   ]
  },
  {
   "cell_type": "code",
   "execution_count": 83,
   "metadata": {},
   "outputs": [
    {
     "data": {
      "text/plain": [
       "['Anna', 'Kat', 'Matt', 'Rodger', 'Sara', 'Unknown']"
      ]
     },
     "execution_count": 83,
     "metadata": {},
     "output_type": "execute_result"
    }
   ],
   "source": [
    "# We've now changed the state of this list to be sorted\n",
    "students.sort()\n",
    "students"
   ]
  },
  {
   "cell_type": "code",
   "execution_count": 84,
   "metadata": {},
   "outputs": [
    {
     "data": {
      "text/plain": [
       "['Anna', 'Kat', 'Matt', 'Rodger', 'Sara']"
      ]
     },
     "execution_count": 84,
     "metadata": {},
     "output_type": "execute_result"
    }
   ],
   "source": [
    "students.remove('Unknown')\n",
    "students"
   ]
  },
  {
   "cell_type": "code",
   "execution_count": 85,
   "metadata": {},
   "outputs": [
    {
     "data": {
      "text/plain": [
       "'Anna is a student and Kat is a student and Matt is a student and Rodger is a student and Sara'"
      ]
     },
     "execution_count": 85,
     "metadata": {},
     "output_type": "execute_result"
    }
   ],
   "source": [
    "' is a student and '.join(students)"
   ]
  },
  {
   "cell_type": "markdown",
   "metadata": {},
   "source": [
    "### Dictionaries\n",
    "\n",
    "Dictionaries are unordered data that has a **key** and a **value**. "
   ]
  },
  {
   "cell_type": "code",
   "execution_count": null,
   "metadata": {},
   "outputs": [],
   "source": []
  },
  {
   "cell_type": "code",
   "execution_count": null,
   "metadata": {},
   "outputs": [],
   "source": []
  },
  {
   "cell_type": "code",
   "execution_count": null,
   "metadata": {},
   "outputs": [],
   "source": []
  },
  {
   "cell_type": "code",
   "execution_count": null,
   "metadata": {},
   "outputs": [],
   "source": []
  },
  {
   "cell_type": "markdown",
   "metadata": {},
   "source": [
    "#### Dictionaries can be nested"
   ]
  },
  {
   "cell_type": "code",
   "execution_count": 18,
   "metadata": {},
   "outputs": [],
   "source": [
    "states = {\n",
    "    \"NY\": {\n",
    "        \"fullname\": \"New York State\",\n",
    "        \"motto\": \"GIS fo' eva!\"\n",
    "    },\n",
    "    \"NJ\": {\n",
    "        \"fullname\": \"New Jersey\",\n",
    "        \"motto\": \"Python in da houssssseee!\",\n",
    "        \"founded\": 1787,\n",
    "        \"industries\": ['textile', 'silk', 'railroad locomotive']\n",
    "    }\n",
    "}"
   ]
  },
  {
   "cell_type": "code",
   "execution_count": null,
   "metadata": {},
   "outputs": [],
   "source": []
  },
  {
   "cell_type": "code",
   "execution_count": null,
   "metadata": {},
   "outputs": [],
   "source": []
  },
  {
   "cell_type": "code",
   "execution_count": 19,
   "metadata": {},
   "outputs": [],
   "source": [
    "# We can overwrite values, what is this called? \n"
   ]
  },
  {
   "cell_type": "markdown",
   "metadata": {},
   "source": [
    "### Other Collection Types \n",
    "* [Tuples](https://docs.python.org/3.4/c-api/tuple.html) - Tuples are **Immutable**\n",
    "* [Sets](https://docs.python.org/2/library/sets.html) - Set's only include 1 of a unique element. \n",
    "\n",
    "We can talk about these later on, but you'll encounter this much less. "
   ]
  },
  {
   "cell_type": "code",
   "execution_count": 20,
   "metadata": {},
   "outputs": [],
   "source": [
    "coordinates = (42, -73)  # Tuple\n"
   ]
  },
  {
   "cell_type": "code",
   "execution_count": 87,
   "metadata": {},
   "outputs": [
    {
     "name": "stdout",
     "output_type": "stream",
     "text": [
      "{'nj', 'ny'}\n"
     ]
    }
   ],
   "source": [
    "s = set(['nj', 'ny', 'nj', 'nj'])\n",
    "# take list object and turn into a set object\n",
    "# where set only preserves 1 of a unique element\n",
    "\n",
    "print(s)"
   ]
  },
  {
   "cell_type": "markdown",
   "metadata": {},
   "source": [
    "## Built-in Python Functions\n",
    "We saw the `type()` function when we were looking at Data Types"
   ]
  },
  {
   "cell_type": "code",
   "execution_count": 22,
   "metadata": {},
   "outputs": [],
   "source": [
    "# round"
   ]
  },
  {
   "cell_type": "code",
   "execution_count": 23,
   "metadata": {},
   "outputs": [],
   "source": [
    "# get the length of s, the set from above"
   ]
  }
 ],
 "metadata": {
  "kernelspec": {
   "display_name": "Python 3",
   "language": "python",
   "name": "python3"
  },
  "language_info": {
   "codemirror_mode": {
    "name": "ipython",
    "version": 3
   },
   "file_extension": ".py",
   "mimetype": "text/x-python",
   "name": "python",
   "nbconvert_exporter": "python",
   "pygments_lexer": "ipython3",
   "version": "3.7.6"
  },
  "toc": {
   "base_numbering": 1,
   "nav_menu": {},
   "number_sections": false,
   "sideBar": true,
   "skip_h1_title": false,
   "title_cell": "Table of Contents",
   "title_sidebar": "Contents",
   "toc_cell": true,
   "toc_position": {
    "height": "calc(100% - 180px)",
    "left": "10px",
    "top": "150px",
    "width": "165px"
   },
   "toc_section_display": true,
   "toc_window_display": true
  }
 },
 "nbformat": 4,
 "nbformat_minor": 2
}
